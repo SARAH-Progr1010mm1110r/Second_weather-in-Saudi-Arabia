{
 "cells": [
  {
   "cell_type": "markdown",
   "metadata": {
    "id": "NWFxCrKodvGq"
   },
   "source": [
    "\n",
    "\n",
    "---\n",
    "\n",
    "\n",
    "# <font color='LightSteelBlue'>**Pre-Processing**</font>\n",
    "\n",
    "\n",
    "---\n",
    "\n"
   ]
  },
  {
   "cell_type": "markdown",
   "metadata": {
    "id": "9SFSoMLPv6Wv"
   },
   "source": [
    "## <font color='MediumPurple'>Importing Packages </font>"
   ]
  },
  {
   "cell_type": "code",
   "execution_count": 1,
   "metadata": {
    "id": "7pLE33ObJfo5"
   },
   "outputs": [],
   "source": [
    "import pandas as pd\n",
    "import numpy as np\n",
    "import matplotlib.pyplot as plt\n",
    "import seaborn as sns\n",
    "import math\n",
    "import joblib\n",
    "from sklearn import preprocessing\n",
    "\n",
    "import warnings\n",
    "warnings.filterwarnings('ignore') "
   ]
  },
  {
   "cell_type": "markdown",
   "metadata": {
    "id": "7kkMRk-9dvGs"
   },
   "source": [
    "## <font color='MediumPurple'>**Our Data about changing weather in Saudi Arabia**</font>\n",
    "\n",
    "<font color='Peru'>The Kingdom of Saudi Arabia has started the process of Cloud seeding recently\n",
    "in early April 2022 , the Kingdom began the first phase of a cloud-seeding program\n",
    "The goal behind this is to increase the rate of rain seeding and improve the Kingdom's climate\n",
    "Note that the Kingdom is one of the driest countries in the world, and does not contain permanent of water such as rivers \n",
    "So in the next few years the weather in the kingdom will be nice and full of clouds</font>"
   ]
  },
  {
   "cell_type": "markdown",
   "metadata": {
    "id": "ZtlbMLMgwI9R"
   },
   "source": [
    "## <font color='MediumPurple'>Loading Dataset and initial exploration first 5 rows</font>\n"
   ]
  },
  {
   "cell_type": "code",
   "execution_count": 2,
   "metadata": {
    "id": "GKgyMMiLEYVV"
   },
   "outputs": [],
   "source": [
    "df = pd.read_csv(\"saudi-hourly-weather-data.csv\") "
   ]
  },
  {
   "cell_type": "code",
   "execution_count": 3,
   "metadata": {
    "colab": {
     "base_uri": "https://localhost:8080/"
    },
    "id": "bOtgC40uq_iz",
    "outputId": "469cff50-f36b-496b-c9b2-77f2086884d4"
   },
   "outputs": [
    {
     "data": {
      "text/plain": [
       "(300000, 35)"
      ]
     },
     "execution_count": 3,
     "metadata": {},
     "output_type": "execute_result"
    }
   ],
   "source": [
    "df.shape"
   ]
  },
  {
   "cell_type": "code",
   "execution_count": 4,
   "metadata": {},
   "outputs": [
    {
     "name": "stdout",
     "output_type": "stream",
     "text": [
      "<class 'pandas.core.frame.DataFrame'>\n",
      "RangeIndex: 300000 entries, 0 to 299999\n",
      "Data columns (total 35 columns):\n",
      " #   Column                                  Non-Null Count   Dtype  \n",
      "---  ------                                  --------------   -----  \n",
      " 0   YEAR                                    300000 non-null  int64  \n",
      " 1   station_country                         300000 non-null  object \n",
      " 2   station_name                            300000 non-null  object \n",
      " 3   station_id                              300000 non-null  int64  \n",
      " 4   observation_date                        300000 non-null  object \n",
      " 5   latitude                                300000 non-null  float64\n",
      " 6   longitude                               300000 non-null  float64\n",
      " 7   elevation                               300000 non-null  float64\n",
      " 8   wind_direction_angle                    300000 non-null  float64\n",
      " 9   wind_direction_angle_units              300000 non-null  object \n",
      " 10  wind_direction_quality                  300000 non-null  object \n",
      " 11  wind_type                               300000 non-null  object \n",
      " 12  wind_speed_rate                         300000 non-null  float64\n",
      " 13  wind_speed_rate_units                   300000 non-null  object \n",
      " 14  wind_speed_quality                      300000 non-null  object \n",
      " 15  sky_ceiling_height                      300000 non-null  float64\n",
      " 16  sky_ceiling_height_units                300000 non-null  object \n",
      " 17  sky_ceiling_quality                     300000 non-null  object \n",
      " 18  sky_ceiling_determination               300000 non-null  object \n",
      " 19  sky_cavok                               300000 non-null  object \n",
      " 20  visibility_distance                     300000 non-null  float64\n",
      " 21  visibility_distance_units               300000 non-null  object \n",
      " 22  visibility_distance_quality             300000 non-null  object \n",
      " 23  visibility_variability                  138337 non-null  object \n",
      " 24  visibility_variability_quality          138337 non-null  object \n",
      " 25  air_temperature                         138337 non-null  float64\n",
      " 26  air_temperature_units                   138337 non-null  object \n",
      " 27  air_temperature_quality                 138337 non-null  object \n",
      " 28  air_temperature_dew_point               138329 non-null  float64\n",
      " 29  air_temperature_dew_point_units         138329 non-null  object \n",
      " 30  air_temperature_dew_point_quality       138329 non-null  object \n",
      " 31  atmospheric_sea_level_pressure          138329 non-null  float64\n",
      " 32  atmospheric_sea_level_pressure_units    138329 non-null  object \n",
      " 33  atmospheric_sea_level_pressure_quality  138329 non-null  object \n",
      " 34  GEOPOINT                                138328 non-null  float64\n",
      "dtypes: float64(11), int64(2), object(22)\n",
      "memory usage: 80.1+ MB\n"
     ]
    }
   ],
   "source": [
    "df.info()"
   ]
  },
  {
   "cell_type": "markdown",
   "metadata": {
    "id": "toaBMGfF8FVW"
   },
   "source": [
    "* <font color='LightSteelBlue'>**description the data for the  numerical coulmn**</font>"
   ]
  },
  {
   "cell_type": "code",
   "execution_count": 5,
   "metadata": {
    "colab": {
     "base_uri": "https://localhost:8080/",
     "height": 364
    },
    "id": "LF_B1glQdvGt",
    "outputId": "1c9de1d4-d96f-4174-b14e-1149a7f0d473"
   },
   "outputs": [
    {
     "data": {
      "text/html": [
       "<div>\n",
       "<style scoped>\n",
       "    .dataframe tbody tr th:only-of-type {\n",
       "        vertical-align: middle;\n",
       "    }\n",
       "\n",
       "    .dataframe tbody tr th {\n",
       "        vertical-align: top;\n",
       "    }\n",
       "\n",
       "    .dataframe thead th {\n",
       "        text-align: right;\n",
       "    }\n",
       "</style>\n",
       "<table border=\"1\" class=\"dataframe\">\n",
       "  <thead>\n",
       "    <tr style=\"text-align: right;\">\n",
       "      <th></th>\n",
       "      <th>YEAR</th>\n",
       "      <th>station_id</th>\n",
       "      <th>latitude</th>\n",
       "      <th>longitude</th>\n",
       "      <th>elevation</th>\n",
       "      <th>wind_direction_angle</th>\n",
       "      <th>wind_speed_rate</th>\n",
       "      <th>sky_ceiling_height</th>\n",
       "      <th>visibility_distance</th>\n",
       "      <th>air_temperature</th>\n",
       "      <th>air_temperature_dew_point</th>\n",
       "      <th>atmospheric_sea_level_pressure</th>\n",
       "      <th>GEOPOINT</th>\n",
       "    </tr>\n",
       "  </thead>\n",
       "  <tbody>\n",
       "    <tr>\n",
       "      <th>count</th>\n",
       "      <td>300000.000000</td>\n",
       "      <td>3.000000e+05</td>\n",
       "      <td>300000.000000</td>\n",
       "      <td>300000.000000</td>\n",
       "      <td>300000.000000</td>\n",
       "      <td>300000.000000</td>\n",
       "      <td>300000.000000</td>\n",
       "      <td>300000.000000</td>\n",
       "      <td>300000.000000</td>\n",
       "      <td>138337.000000</td>\n",
       "      <td>138329.000000</td>\n",
       "      <td>138329.000000</td>\n",
       "      <td>138328.000000</td>\n",
       "    </tr>\n",
       "    <tr>\n",
       "      <th>mean</th>\n",
       "      <td>2020.995467</td>\n",
       "      <td>4.064542e+10</td>\n",
       "      <td>24.478950</td>\n",
       "      <td>42.599886</td>\n",
       "      <td>699.887090</td>\n",
       "      <td>290.962597</td>\n",
       "      <td>4.024879</td>\n",
       "      <td>83803.946883</td>\n",
       "      <td>9713.430713</td>\n",
       "      <td>27.960075</td>\n",
       "      <td>11.594134</td>\n",
       "      <td>6676.328211</td>\n",
       "      <td>23.805628</td>\n",
       "    </tr>\n",
       "    <tr>\n",
       "      <th>std</th>\n",
       "      <td>0.804638</td>\n",
       "      <td>3.335318e+08</td>\n",
       "      <td>4.434649</td>\n",
       "      <td>3.880292</td>\n",
       "      <td>579.570654</td>\n",
       "      <td>277.058145</td>\n",
       "      <td>19.149323</td>\n",
       "      <td>33595.882420</td>\n",
       "      <td>15517.522637</td>\n",
       "      <td>36.032489</td>\n",
       "      <td>56.339745</td>\n",
       "      <td>4340.214764</td>\n",
       "      <td>4.573448</td>\n",
       "    </tr>\n",
       "    <tr>\n",
       "      <th>min</th>\n",
       "      <td>2020.000000</td>\n",
       "      <td>4.035610e+10</td>\n",
       "      <td>16.901111</td>\n",
       "      <td>36.476381</td>\n",
       "      <td>6.090000</td>\n",
       "      <td>10.000000</td>\n",
       "      <td>0.000000</td>\n",
       "      <td>0.000000</td>\n",
       "      <td>0.000000</td>\n",
       "      <td>-4.000000</td>\n",
       "      <td>-26.000000</td>\n",
       "      <td>990.300000</td>\n",
       "      <td>16.901111</td>\n",
       "    </tr>\n",
       "    <tr>\n",
       "      <th>25%</th>\n",
       "      <td>2020.000000</td>\n",
       "      <td>4.039410e+10</td>\n",
       "      <td>20.504275</td>\n",
       "      <td>39.705061</td>\n",
       "      <td>179.220000</td>\n",
       "      <td>110.000000</td>\n",
       "      <td>2.100000</td>\n",
       "      <td>99999.000000</td>\n",
       "      <td>9900.000000</td>\n",
       "      <td>20.600000</td>\n",
       "      <td>2.000000</td>\n",
       "      <td>1012.000000</td>\n",
       "      <td>19.984350</td>\n",
       "    </tr>\n",
       "    <tr>\n",
       "      <th>50%</th>\n",
       "      <td>2021.000000</td>\n",
       "      <td>4.042010e+10</td>\n",
       "      <td>25.285306</td>\n",
       "      <td>42.620881</td>\n",
       "      <td>628.490000</td>\n",
       "      <td>240.000000</td>\n",
       "      <td>3.100000</td>\n",
       "      <td>99999.000000</td>\n",
       "      <td>9900.000000</td>\n",
       "      <td>27.000000</td>\n",
       "      <td>8.000000</td>\n",
       "      <td>9999.900000</td>\n",
       "      <td>24.553422</td>\n",
       "    </tr>\n",
       "    <tr>\n",
       "      <th>75%</th>\n",
       "      <td>2022.000000</td>\n",
       "      <td>4.105510e+10</td>\n",
       "      <td>27.437917</td>\n",
       "      <td>45.199556</td>\n",
       "      <td>923.000000</td>\n",
       "      <td>320.000000</td>\n",
       "      <td>5.100000</td>\n",
       "      <td>99999.000000</td>\n",
       "      <td>9999.000000</td>\n",
       "      <td>33.000000</td>\n",
       "      <td>14.000000</td>\n",
       "      <td>9999.900000</td>\n",
       "      <td>27.039028</td>\n",
       "    </tr>\n",
       "    <tr>\n",
       "      <th>max</th>\n",
       "      <td>2022.000000</td>\n",
       "      <td>4.114010e+10</td>\n",
       "      <td>31.692683</td>\n",
       "      <td>50.152027</td>\n",
       "      <td>2090.310000</td>\n",
       "      <td>999.000000</td>\n",
       "      <td>999.900000</td>\n",
       "      <td>99999.000000</td>\n",
       "      <td>999999.000000</td>\n",
       "      <td>999.900000</td>\n",
       "      <td>999.000000</td>\n",
       "      <td>9999.900000</td>\n",
       "      <td>31.692683</td>\n",
       "    </tr>\n",
       "  </tbody>\n",
       "</table>\n",
       "</div>"
      ],
      "text/plain": [
       "                YEAR    station_id       latitude      longitude  \\\n",
       "count  300000.000000  3.000000e+05  300000.000000  300000.000000   \n",
       "mean     2020.995467  4.064542e+10      24.478950      42.599886   \n",
       "std         0.804638  3.335318e+08       4.434649       3.880292   \n",
       "min      2020.000000  4.035610e+10      16.901111      36.476381   \n",
       "25%      2020.000000  4.039410e+10      20.504275      39.705061   \n",
       "50%      2021.000000  4.042010e+10      25.285306      42.620881   \n",
       "75%      2022.000000  4.105510e+10      27.437917      45.199556   \n",
       "max      2022.000000  4.114010e+10      31.692683      50.152027   \n",
       "\n",
       "           elevation  wind_direction_angle  wind_speed_rate  \\\n",
       "count  300000.000000         300000.000000    300000.000000   \n",
       "mean      699.887090            290.962597         4.024879   \n",
       "std       579.570654            277.058145        19.149323   \n",
       "min         6.090000             10.000000         0.000000   \n",
       "25%       179.220000            110.000000         2.100000   \n",
       "50%       628.490000            240.000000         3.100000   \n",
       "75%       923.000000            320.000000         5.100000   \n",
       "max      2090.310000            999.000000       999.900000   \n",
       "\n",
       "       sky_ceiling_height  visibility_distance  air_temperature  \\\n",
       "count       300000.000000        300000.000000    138337.000000   \n",
       "mean         83803.946883          9713.430713        27.960075   \n",
       "std          33595.882420         15517.522637        36.032489   \n",
       "min              0.000000             0.000000        -4.000000   \n",
       "25%          99999.000000          9900.000000        20.600000   \n",
       "50%          99999.000000          9900.000000        27.000000   \n",
       "75%          99999.000000          9999.000000        33.000000   \n",
       "max          99999.000000        999999.000000       999.900000   \n",
       "\n",
       "       air_temperature_dew_point  atmospheric_sea_level_pressure  \\\n",
       "count              138329.000000                   138329.000000   \n",
       "mean                   11.594134                     6676.328211   \n",
       "std                    56.339745                     4340.214764   \n",
       "min                   -26.000000                      990.300000   \n",
       "25%                     2.000000                     1012.000000   \n",
       "50%                     8.000000                     9999.900000   \n",
       "75%                    14.000000                     9999.900000   \n",
       "max                   999.000000                     9999.900000   \n",
       "\n",
       "            GEOPOINT  \n",
       "count  138328.000000  \n",
       "mean       23.805628  \n",
       "std         4.573448  \n",
       "min        16.901111  \n",
       "25%        19.984350  \n",
       "50%        24.553422  \n",
       "75%        27.039028  \n",
       "max        31.692683  "
      ]
     },
     "execution_count": 5,
     "metadata": {},
     "output_type": "execute_result"
    }
   ],
   "source": [
    "df.describe()"
   ]
  },
  {
   "cell_type": "markdown",
   "metadata": {
    "id": "zIoJqaJK8Ntj"
   },
   "source": [
    "* <font color='Peru'>**return a description about categrecal columns**</font>"
   ]
  },
  {
   "cell_type": "code",
   "execution_count": 6,
   "metadata": {
    "colab": {
     "base_uri": "https://localhost:8080/",
     "height": 303
    },
    "id": "h7-zjmggdvGt",
    "outputId": "36631bcd-25a0-4779-94c5-79bb4fec3fce"
   },
   "outputs": [
    {
     "data": {
      "text/html": [
       "<div>\n",
       "<style scoped>\n",
       "    .dataframe tbody tr th:only-of-type {\n",
       "        vertical-align: middle;\n",
       "    }\n",
       "\n",
       "    .dataframe tbody tr th {\n",
       "        vertical-align: top;\n",
       "    }\n",
       "\n",
       "    .dataframe thead th {\n",
       "        text-align: right;\n",
       "    }\n",
       "</style>\n",
       "<table border=\"1\" class=\"dataframe\">\n",
       "  <thead>\n",
       "    <tr style=\"text-align: right;\">\n",
       "      <th></th>\n",
       "      <th>station_country</th>\n",
       "      <th>station_name</th>\n",
       "      <th>observation_date</th>\n",
       "      <th>wind_direction_angle_units</th>\n",
       "      <th>wind_direction_quality</th>\n",
       "      <th>wind_type</th>\n",
       "      <th>wind_speed_rate_units</th>\n",
       "      <th>wind_speed_quality</th>\n",
       "      <th>sky_ceiling_height_units</th>\n",
       "      <th>sky_ceiling_quality</th>\n",
       "      <th>...</th>\n",
       "      <th>visibility_distance_units</th>\n",
       "      <th>visibility_distance_quality</th>\n",
       "      <th>visibility_variability</th>\n",
       "      <th>visibility_variability_quality</th>\n",
       "      <th>air_temperature_units</th>\n",
       "      <th>air_temperature_quality</th>\n",
       "      <th>air_temperature_dew_point_units</th>\n",
       "      <th>air_temperature_dew_point_quality</th>\n",
       "      <th>atmospheric_sea_level_pressure_units</th>\n",
       "      <th>atmospheric_sea_level_pressure_quality</th>\n",
       "    </tr>\n",
       "  </thead>\n",
       "  <tbody>\n",
       "    <tr>\n",
       "      <th>count</th>\n",
       "      <td>300000</td>\n",
       "      <td>300000</td>\n",
       "      <td>300000</td>\n",
       "      <td>300000</td>\n",
       "      <td>300000</td>\n",
       "      <td>300000</td>\n",
       "      <td>300000</td>\n",
       "      <td>300000</td>\n",
       "      <td>300000</td>\n",
       "      <td>300000</td>\n",
       "      <td>...</td>\n",
       "      <td>300000</td>\n",
       "      <td>300000</td>\n",
       "      <td>138337</td>\n",
       "      <td>138337</td>\n",
       "      <td>138337</td>\n",
       "      <td>138337</td>\n",
       "      <td>138329</td>\n",
       "      <td>138329</td>\n",
       "      <td>138329</td>\n",
       "      <td>138329</td>\n",
       "    </tr>\n",
       "    <tr>\n",
       "      <th>unique</th>\n",
       "      <td>1</td>\n",
       "      <td>33</td>\n",
       "      <td>25901</td>\n",
       "      <td>1</td>\n",
       "      <td>2</td>\n",
       "      <td>3</td>\n",
       "      <td>1</td>\n",
       "      <td>3</td>\n",
       "      <td>1</td>\n",
       "      <td>2</td>\n",
       "      <td>...</td>\n",
       "      <td>1</td>\n",
       "      <td>2</td>\n",
       "      <td>1</td>\n",
       "      <td>1</td>\n",
       "      <td>1</td>\n",
       "      <td>3</td>\n",
       "      <td>1</td>\n",
       "      <td>3</td>\n",
       "      <td>1</td>\n",
       "      <td>3</td>\n",
       "    </tr>\n",
       "    <tr>\n",
       "      <th>top</th>\n",
       "      <td>SA</td>\n",
       "      <td>KING KHALED INTL</td>\n",
       "      <td>2021-08-06T00:00:00+03:00</td>\n",
       "      <td>ANGULAR DEGREES</td>\n",
       "      <td>Passed all quality control checks</td>\n",
       "      <td>Normal</td>\n",
       "      <td>METERS PER SECOND</td>\n",
       "      <td>Passed all quality control checks</td>\n",
       "      <td>METERS</td>\n",
       "      <td>Passed gross limits check if element is present</td>\n",
       "      <td>...</td>\n",
       "      <td>METERS</td>\n",
       "      <td>Passed all quality control checks</td>\n",
       "      <td>Missing</td>\n",
       "      <td>Passed gross limits check if element is present</td>\n",
       "      <td>DEGREES CELSIUS</td>\n",
       "      <td>Passed all quality control checks</td>\n",
       "      <td>DEGREES CELSIUS</td>\n",
       "      <td>Passed all quality control checks</td>\n",
       "      <td>HECTOPASCALS</td>\n",
       "      <td>Passed gross limits check if element is present</td>\n",
       "    </tr>\n",
       "    <tr>\n",
       "      <th>freq</th>\n",
       "      <td>300000</td>\n",
       "      <td>10694</td>\n",
       "      <td>33</td>\n",
       "      <td>300000</td>\n",
       "      <td>264949</td>\n",
       "      <td>264068</td>\n",
       "      <td>300000</td>\n",
       "      <td>299868</td>\n",
       "      <td>300000</td>\n",
       "      <td>242718</td>\n",
       "      <td>...</td>\n",
       "      <td>300000</td>\n",
       "      <td>299927</td>\n",
       "      <td>138337</td>\n",
       "      <td>138337</td>\n",
       "      <td>138337</td>\n",
       "      <td>138037</td>\n",
       "      <td>138329</td>\n",
       "      <td>136278</td>\n",
       "      <td>138329</td>\n",
       "      <td>87197</td>\n",
       "    </tr>\n",
       "  </tbody>\n",
       "</table>\n",
       "<p>4 rows × 22 columns</p>\n",
       "</div>"
      ],
      "text/plain": [
       "       station_country      station_name           observation_date  \\\n",
       "count           300000            300000                     300000   \n",
       "unique               1                33                      25901   \n",
       "top                 SA  KING KHALED INTL  2021-08-06T00:00:00+03:00   \n",
       "freq            300000             10694                         33   \n",
       "\n",
       "       wind_direction_angle_units             wind_direction_quality  \\\n",
       "count                      300000                             300000   \n",
       "unique                          1                                  2   \n",
       "top               ANGULAR DEGREES  Passed all quality control checks   \n",
       "freq                       300000                             264949   \n",
       "\n",
       "       wind_type wind_speed_rate_units                 wind_speed_quality  \\\n",
       "count     300000                300000                             300000   \n",
       "unique         3                     1                                  3   \n",
       "top       Normal     METERS PER SECOND  Passed all quality control checks   \n",
       "freq      264068                300000                             299868   \n",
       "\n",
       "       sky_ceiling_height_units  \\\n",
       "count                    300000   \n",
       "unique                        1   \n",
       "top                      METERS   \n",
       "freq                     300000   \n",
       "\n",
       "                                    sky_ceiling_quality  ...  \\\n",
       "count                                            300000  ...   \n",
       "unique                                                2  ...   \n",
       "top     Passed gross limits check if element is present  ...   \n",
       "freq                                             242718  ...   \n",
       "\n",
       "       visibility_distance_units        visibility_distance_quality  \\\n",
       "count                     300000                             300000   \n",
       "unique                         1                                  2   \n",
       "top                       METERS  Passed all quality control checks   \n",
       "freq                      300000                             299927   \n",
       "\n",
       "       visibility_variability  \\\n",
       "count                  138337   \n",
       "unique                      1   \n",
       "top                   Missing   \n",
       "freq                   138337   \n",
       "\n",
       "                         visibility_variability_quality air_temperature_units  \\\n",
       "count                                            138337                138337   \n",
       "unique                                                1                     1   \n",
       "top     Passed gross limits check if element is present       DEGREES CELSIUS   \n",
       "freq                                             138337                138337   \n",
       "\n",
       "                  air_temperature_quality air_temperature_dew_point_units  \\\n",
       "count                              138337                          138329   \n",
       "unique                                  3                               1   \n",
       "top     Passed all quality control checks                 DEGREES CELSIUS   \n",
       "freq                               138037                          138329   \n",
       "\n",
       "        air_temperature_dew_point_quality  \\\n",
       "count                              138329   \n",
       "unique                                  3   \n",
       "top     Passed all quality control checks   \n",
       "freq                               136278   \n",
       "\n",
       "       atmospheric_sea_level_pressure_units  \\\n",
       "count                                138329   \n",
       "unique                                    1   \n",
       "top                            HECTOPASCALS   \n",
       "freq                                 138329   \n",
       "\n",
       "                 atmospheric_sea_level_pressure_quality  \n",
       "count                                            138329  \n",
       "unique                                                3  \n",
       "top     Passed gross limits check if element is present  \n",
       "freq                                              87197  \n",
       "\n",
       "[4 rows x 22 columns]"
      ]
     },
     "execution_count": 6,
     "metadata": {},
     "output_type": "execute_result"
    }
   ],
   "source": [
    "df.describe(exclude='number')"
   ]
  },
  {
   "cell_type": "code",
   "execution_count": 7,
   "metadata": {
    "colab": {
     "base_uri": "https://localhost:8080/"
    },
    "id": "4ETJz0Ub6Ixt",
    "outputId": "56ac21c2-32cd-4ae2-9d2f-673169786847"
   },
   "outputs": [
    {
     "data": {
      "text/plain": [
       "YEAR                                           0\n",
       "station_country                                0\n",
       "station_name                                   0\n",
       "station_id                                     0\n",
       "observation_date                               0\n",
       "latitude                                       0\n",
       "longitude                                      0\n",
       "elevation                                      0\n",
       "wind_direction_angle                           0\n",
       "wind_direction_angle_units                     0\n",
       "wind_direction_quality                         0\n",
       "wind_type                                      0\n",
       "wind_speed_rate                                0\n",
       "wind_speed_rate_units                          0\n",
       "wind_speed_quality                             0\n",
       "sky_ceiling_height                             0\n",
       "sky_ceiling_height_units                       0\n",
       "sky_ceiling_quality                            0\n",
       "sky_ceiling_determination                      0\n",
       "sky_cavok                                      0\n",
       "visibility_distance                            0\n",
       "visibility_distance_units                      0\n",
       "visibility_distance_quality                    0\n",
       "visibility_variability                    161663\n",
       "visibility_variability_quality            161663\n",
       "air_temperature                           161663\n",
       "air_temperature_units                     161663\n",
       "air_temperature_quality                   161663\n",
       "air_temperature_dew_point                 161671\n",
       "air_temperature_dew_point_units           161671\n",
       "air_temperature_dew_point_quality         161671\n",
       "atmospheric_sea_level_pressure            161671\n",
       "atmospheric_sea_level_pressure_units      161671\n",
       "atmospheric_sea_level_pressure_quality    161671\n",
       "GEOPOINT                                  161672\n",
       "dtype: int64"
      ]
     },
     "execution_count": 7,
     "metadata": {},
     "output_type": "execute_result"
    }
   ],
   "source": [
    "# Get the number of missing values per column\n",
    "df.isna().sum()"
   ]
  },
  {
   "cell_type": "code",
   "execution_count": 8,
   "metadata": {
    "colab": {
     "base_uri": "https://localhost:8080/"
    },
    "id": "W9jV8Gl7KMlf",
    "outputId": "b9ed0539-ff02-4538-9050-0d9c100b345a"
   },
   "outputs": [
    {
     "data": {
      "text/plain": [
       "YEAR                                          3\n",
       "station_country                               1\n",
       "station_name                                 33\n",
       "station_id                                   33\n",
       "observation_date                          25901\n",
       "latitude                                     34\n",
       "longitude                                    34\n",
       "elevation                                    33\n",
       "wind_direction_angle                         37\n",
       "wind_direction_angle_units                    1\n",
       "wind_direction_quality                        2\n",
       "wind_type                                     3\n",
       "wind_speed_rate                              56\n",
       "wind_speed_rate_units                         1\n",
       "wind_speed_quality                            3\n",
       "sky_ceiling_height                           82\n",
       "sky_ceiling_height_units                      1\n",
       "sky_ceiling_quality                           2\n",
       "sky_ceiling_determination                     3\n",
       "sky_cavok                                     3\n",
       "visibility_distance                          74\n",
       "visibility_distance_units                     1\n",
       "visibility_distance_quality                   2\n",
       "visibility_variability                        1\n",
       "visibility_variability_quality                1\n",
       "air_temperature                             494\n",
       "air_temperature_units                         1\n",
       "air_temperature_quality                       3\n",
       "air_temperature_dew_point                    61\n",
       "air_temperature_dew_point_units               1\n",
       "air_temperature_dew_point_quality             3\n",
       "atmospheric_sea_level_pressure              408\n",
       "atmospheric_sea_level_pressure_units          1\n",
       "atmospheric_sea_level_pressure_quality        3\n",
       "GEOPOINT                                     34\n",
       "dtype: int64"
      ]
     },
     "execution_count": 8,
     "metadata": {},
     "output_type": "execute_result"
    }
   ],
   "source": [
    "# Number of Unique values in each columns.\n",
    "df.nunique()"
   ]
  },
  {
   "cell_type": "markdown",
   "metadata": {
    "id": "OeOiF_q3wmr0"
   },
   "source": [
    "* <font color='LightSteelBlue'>**Exploring all the values in each column/feature**</font>"
   ]
  },
  {
   "cell_type": "code",
   "execution_count": 10,
   "metadata": {
    "colab": {
     "base_uri": "https://localhost:8080/"
    },
    "id": "BUFOLeQmwjEa",
    "outputId": "b4cd582e-12a6-417d-de5e-fd74fc01e9e5"
   },
   "outputs": [
    {
     "name": "stdout",
     "output_type": "stream",
     "text": [
      "SA    300000\n",
      "Name: station_country, dtype: int64\n",
      "\n",
      "\n",
      "KING KHALED INTL                            10694\n",
      "KING ABDULLAH BIN ABDULAZIZ                 10671\n",
      "ABHA                                        10654\n",
      "AL JOUF                                     10647\n",
      "TAIF                                        10640\n",
      "KING ABDULAZIZ INTL                         10633\n",
      "NEJRAN                                      10587\n",
      "GASSIM                                      10563\n",
      "AL AHSA                                     10562\n",
      "ARAR                                        10549\n",
      "GURIAT                                      10542\n",
      "AL BAHA                                     10539\n",
      "RAFHA                                       10530\n",
      "YENBO                                       10502\n",
      "SHARURAH                                    10497\n",
      "TABUK                                       10481\n",
      "TURAIF                                      10476\n",
      "WEJH                                        10466\n",
      "HAIL                                        10429\n",
      "KING KHALED AB                              10424\n",
      "PRINCE MOHAMMAD BIN ABDULAZIZ               10421\n",
      "DAMMAM (KING FAHD INT. AIRPORT)             10411\n",
      "WADI AL DAWASIR                             10411\n",
      "QAISUMAH                                    10405\n",
      "BISHA                                       10333\n",
      "PRINCE ABDULMAJEED BIN ABDULAZIZ AIRPORT     9608\n",
      "KING ABDULAZIZ AB                            7941\n",
      "JUBAIL                                       5997\n",
      "PRINCE SALMAN BIN ABDULAZIZ                  5477\n",
      "RIYADH AB                                    3257\n",
      "ARAFAT                                       2244\n",
      "AL-DAWADAMI                                  1993\n",
      "MINA                                          416\n",
      "Name: station_name, dtype: int64\n",
      "\n",
      "\n",
      "40437099999    10694\n",
      "41140099999    10671\n",
      "41112099999    10654\n",
      "40361099999    10647\n",
      "41036099999    10640\n",
      "41024099999    10633\n",
      "41128099999    10587\n",
      "40405099999    10563\n",
      "40420099999    10562\n",
      "40357099999    10549\n",
      "40360099999    10542\n",
      "41055099999    10539\n",
      "40362099999    10530\n",
      "40439099999    10502\n",
      "41136099999    10497\n",
      "40375099999    10481\n",
      "40356099999    10476\n",
      "40400099999    10466\n",
      "40394099999    10429\n",
      "41114099999    10424\n",
      "40430099999    10421\n",
      "40415099999    10411\n",
      "41061099999    10411\n",
      "40373099999    10405\n",
      "41084099999    10333\n",
      "40401099999     9608\n",
      "40416099999     7941\n",
      "40419499999     5997\n",
      "40414099999     5477\n",
      "40438099999     3257\n",
      "41032099999     2244\n",
      "40435099999     1993\n",
      "41031099999      416\n",
      "Name: station_id, dtype: int64\n",
      "\n",
      "\n",
      "2021-08-06T00:00:00+03:00    33\n",
      "2021-03-07T18:00:00+03:00    32\n",
      "2021-11-23T18:00:00+03:00    32\n",
      "2021-08-28T15:00:00+03:00    30\n",
      "2021-04-05T18:00:00+03:00    30\n",
      "                             ..\n",
      "2022-03-17T16:01:00+03:00     1\n",
      "2022-05-21T18:38:00+03:00     1\n",
      "2021-07-19T21:06:00+03:00     1\n",
      "2022-08-14T01:30:00+03:00     1\n",
      "2022-05-25T13:22:00+03:00     1\n",
      "Name: observation_date, Length: 25901, dtype: int64\n",
      "\n",
      "\n",
      "24.957640    10694\n",
      "16.901111    10671\n",
      "18.240367    10654\n",
      "29.785133    10647\n",
      "21.483418    10640\n",
      "21.679564    10633\n",
      "17.611436    10587\n",
      "26.300000    10563\n",
      "25.285306    10562\n",
      "30.906589    10549\n",
      "31.411942    10542\n",
      "20.296139    10539\n",
      "29.626419    10530\n",
      "24.144244    10502\n",
      "17.466875    10497\n",
      "28.365417    10481\n",
      "31.692683    10476\n",
      "26.198553    10466\n",
      "27.437917    10429\n",
      "18.297286    10424\n",
      "24.553422    10421\n",
      "26.433333    10411\n",
      "20.504275    10411\n",
      "28.335192    10405\n",
      "19.984350    10333\n",
      "26.293800     9608\n",
      "26.265417     7941\n",
      "27.039028     5997\n",
      "24.449867     5477\n",
      "24.721944     3242\n",
      "21.333333     2244\n",
      "26.983333     1993\n",
      "21.416667      416\n",
      "24.709833       15\n",
      "Name: latitude, dtype: int64\n",
      "\n",
      "\n",
      "46.698776    10694\n",
      "42.585833    10671\n",
      "42.656625    10654\n",
      "40.100006    10647\n",
      "40.544334    10640\n",
      "39.156536    10633\n",
      "44.419169    10587\n",
      "43.766667    10563\n",
      "49.485189    10562\n",
      "41.138217    10549\n",
      "37.279469    10542\n",
      "41.634277    10539\n",
      "43.490614    10530\n",
      "38.063350    10502\n",
      "47.121431    10497\n",
      "36.618889    10481\n",
      "38.731200    10476\n",
      "36.476381    10466\n",
      "41.686292    10429\n",
      "42.803536    10424\n",
      "39.705061    10421\n",
      "49.800000    10411\n",
      "45.199556    10411\n",
      "46.125069    10405\n",
      "42.620881    10333\n",
      "38.063700     9608\n",
      "50.152027     7941\n",
      "49.405083     5997\n",
      "44.121175     5477\n",
      "46.724722     3242\n",
      "39.966667     2244\n",
      "44.116667     1993\n",
      "39.866667      416\n",
      "46.725166       15\n",
      "Name: longitude, dtype: int64\n",
      "\n",
      "\n",
      "7.92       16499\n",
      "624.53     10694\n",
      "6.09       10671\n",
      "2090.31    10654\n",
      "689.15     10647\n",
      "1477.67    10640\n",
      "14.63      10633\n",
      "1213.71    10587\n",
      "648.00     10563\n",
      "179.22     10562\n",
      "552.60     10549\n",
      "509.62     10542\n",
      "1672.13    10539\n",
      "449.27     10530\n",
      "720.24     10497\n",
      "777.54     10481\n",
      "854.35     10476\n",
      "20.11      10466\n",
      "1015.28    10429\n",
      "2065.93    10424\n",
      "655.62     10421\n",
      "12.00      10411\n",
      "628.49     10411\n",
      "357.83     10405\n",
      "1184.75    10333\n",
      "623.01      9608\n",
      "25.60       7941\n",
      "922.32      5477\n",
      "635.20      3242\n",
      "308.00      2244\n",
      "923.00      1993\n",
      "394.00       416\n",
      "634.59        15\n",
      "Name: elevation, dtype: int64\n",
      "\n",
      "\n",
      "999.0    35051\n",
      "300.0    13219\n",
      "330.0    12500\n",
      "270.0    11979\n",
      "360.0    10590\n",
      "60.0      9816\n",
      "90.0      9686\n",
      "30.0      9249\n",
      "240.0     8994\n",
      "120.0     8929\n",
      "320.0     8907\n",
      "280.0     8850\n",
      "310.0     8404\n",
      "210.0     8099\n",
      "290.0     8047\n",
      "340.0     7617\n",
      "180.0     7310\n",
      "350.0     7149\n",
      "80.0      6973\n",
      "20.0      6875\n",
      "260.0     6698\n",
      "150.0     6527\n",
      "100.0     6371\n",
      "70.0      6343\n",
      "10.0      6199\n",
      "40.0      5765\n",
      "220.0     5652\n",
      "110.0     5548\n",
      "50.0      5544\n",
      "200.0     5274\n",
      "250.0     5164\n",
      "130.0     4920\n",
      "230.0     4803\n",
      "140.0     4636\n",
      "160.0     4250\n",
      "190.0     4070\n",
      "170.0     3992\n",
      "Name: wind_direction_angle, dtype: int64\n",
      "\n",
      "\n",
      "ANGULAR DEGREES    300000\n",
      "Name: wind_direction_angle_units, dtype: int64\n",
      "\n",
      "\n",
      "Passed all quality control checks                  264949\n",
      "Passed gross limits check if element is present     35051\n",
      "Name: wind_direction_quality, dtype: int64\n",
      "\n",
      "\n",
      "Normal      264068\n",
      "Calm         32663\n",
      "Variable      3269\n",
      "Name: wind_type, dtype: int64\n",
      "\n",
      "\n",
      "2.1      37884\n",
      "3.1      34767\n",
      "0.0      32728\n",
      "4.1      29828\n",
      "5.1      27091\n",
      "2.6      22396\n",
      "1.5      17863\n",
      "3.6      15632\n",
      "6.2      15632\n",
      "1.0      10842\n",
      "4.6      10377\n",
      "7.2       9262\n",
      "5.7       7390\n",
      "8.2       5601\n",
      "6.7       5451\n",
      "7.7       4253\n",
      "9.3       3938\n",
      "10.3      2614\n",
      "8.8       2023\n",
      "11.3      1075\n",
      "9.8        914\n",
      "12.4       492\n",
      "10.8       459\n",
      "11.8       276\n",
      "0.5        218\n",
      "12.9       210\n",
      "13.4       203\n",
      "15.4       131\n",
      "14.4       125\n",
      "999.9      109\n",
      "13.9        60\n",
      "17.5        27\n",
      "16.5        23\n",
      "14.9        16\n",
      "18.5        15\n",
      "20.6        12\n",
      "18.0        10\n",
      "16.0         7\n",
      "19.6         7\n",
      "21.6         6\n",
      "17.0         6\n",
      "27.8         4\n",
      "25.7         4\n",
      "19.0         3\n",
      "26.8         2\n",
      "28.8         2\n",
      "27.3         2\n",
      "22.1         2\n",
      "23.7         1\n",
      "24.2         1\n",
      "10.0         1\n",
      "20.1         1\n",
      "23.2         1\n",
      "28.3         1\n",
      "12.0         1\n",
      "22.7         1\n",
      "Name: wind_speed_rate, dtype: int64\n",
      "\n",
      "\n",
      "METERS PER SECOND    300000\n",
      "Name: wind_speed_rate_units, dtype: int64\n",
      "\n",
      "\n",
      "Passed all quality control checks                  299868\n",
      "Passed gross limits check if element is present       109\n",
      "Suspect                                                23\n",
      "Name: wind_speed_quality, dtype: int64\n",
      "\n",
      "\n",
      "99999.0    242718\n",
      "22000.0     37818\n",
      "3048.0       3647\n",
      "914.0        3061\n",
      "1219.0       2848\n",
      "            ...  \n",
      "5182.0          1\n",
      "213.0           1\n",
      "1433.0          1\n",
      "1036.0          1\n",
      "396.0           1\n",
      "Name: sky_ceiling_height, Length: 82, dtype: int64\n",
      "\n",
      "\n",
      "METERS    300000\n",
      "Name: sky_ceiling_height_units, dtype: int64\n",
      "\n",
      "\n",
      "Passed gross limits check if element is present    242718\n",
      "Passed all quality control checks                   57282\n",
      "Name: sky_ceiling_quality, dtype: int64\n",
      "\n",
      "\n",
      "Missing                  284014\n",
      "Statistically derived     15876\n",
      "Obscured                    110\n",
      "Name: sky_ceiling_determination, dtype: int64\n",
      "\n",
      "\n",
      "Yes        161664\n",
      "No         137943\n",
      "Missing       393\n",
      "Name: sky_cavok, dtype: int64\n",
      "\n",
      "\n",
      "9900.0     161663\n",
      "10000.0     63225\n",
      "9999.0      35507\n",
      "8000.0      10773\n",
      "7000.0       6494\n",
      "            ...  \n",
      "55000.0         1\n",
      "550.0           1\n",
      "8500.0          1\n",
      "70000.0         1\n",
      "450.0           1\n",
      "Name: visibility_distance, Length: 74, dtype: int64\n",
      "\n",
      "\n",
      "METERS    300000\n",
      "Name: visibility_distance_units, dtype: int64\n",
      "\n",
      "\n",
      "Passed all quality control checks                  299927\n",
      "Passed gross limits check if element is present        73\n",
      "Name: visibility_distance_quality, dtype: int64\n",
      "\n",
      "\n",
      "Missing    138337\n",
      "Name: visibility_variability, dtype: int64\n",
      "\n",
      "\n",
      "Passed gross limits check if element is present    138337\n",
      "Name: visibility_variability_quality, dtype: int64\n",
      "\n",
      "\n",
      " 30.0    3804\n",
      " 28.0    3763\n",
      " 27.0    3746\n",
      " 32.0    3696\n",
      " 29.0    3649\n",
      "         ... \n",
      " 3.5        1\n",
      " 48.9       1\n",
      " 1.9        1\n",
      "-4.0        1\n",
      "-1.4        1\n",
      "Name: air_temperature, Length: 494, dtype: int64\n",
      "\n",
      "\n",
      "DEGREES CELSIUS    138337\n",
      "Name: air_temperature_units, dtype: int64\n",
      "\n",
      "\n",
      "Passed all quality control checks                  138037\n",
      "Passed gross limits check if element is present       179\n",
      "Suspect                                               121\n",
      "Name: air_temperature_quality, dtype: int64\n",
      "\n",
      "\n",
      " 4.0     6169\n",
      " 7.0     6139\n",
      " 8.0     6088\n",
      " 5.0     6032\n",
      " 9.0     5974\n",
      "         ... \n",
      "-22.0       2\n",
      "-26.0       1\n",
      "-23.0       1\n",
      "-25.0       1\n",
      " 36.0       1\n",
      "Name: air_temperature_dew_point, Length: 61, dtype: int64\n",
      "\n",
      "\n",
      "DEGREES CELSIUS    138329\n",
      "Name: air_temperature_dew_point_units, dtype: int64\n",
      "\n",
      "\n",
      "Passed all quality control checks                  136278\n",
      "Suspect                                              1613\n",
      "Passed gross limits check if element is present       438\n",
      "Name: air_temperature_dew_point_quality, dtype: int64\n",
      "\n",
      "\n",
      "9999.9    87197\n",
      "1005.2      440\n",
      "1003.2      438\n",
      "1004.2      424\n",
      "1012.2      421\n",
      "          ...  \n",
      "990.5         1\n",
      "990.7         1\n",
      "1031.4        1\n",
      "1031.2        1\n",
      "1029.8        1\n",
      "Name: atmospheric_sea_level_pressure, Length: 408, dtype: int64\n",
      "\n",
      "\n",
      "HECTOPASCALS    138329\n",
      "Name: atmospheric_sea_level_pressure_units, dtype: int64\n",
      "\n",
      "\n"
     ]
    },
    {
     "name": "stdout",
     "output_type": "stream",
     "text": [
      "Passed gross limits check if element is present    87197\n",
      "Passed all quality control checks                  51112\n",
      "Suspect                                               20\n",
      "Name: atmospheric_sea_level_pressure_quality, dtype: int64\n",
      "\n",
      "\n",
      "16.901111    8604\n",
      "21.483418    6454\n",
      "18.240367    6222\n",
      "20.296139    6062\n",
      "17.611436    6004\n",
      "21.679564    5726\n",
      "18.297286    5551\n",
      "26.300000    5189\n",
      "17.466875    5022\n",
      "24.957640    4781\n",
      "28.335192    4564\n",
      "28.365417    4462\n",
      "26.433333    4442\n",
      "24.553422    4414\n",
      "31.692683    4371\n",
      "25.285306    4363\n",
      "30.906589    4320\n",
      "20.504275    4317\n",
      "24.144244    4291\n",
      "19.984350    4234\n",
      "27.437917    4184\n",
      "31.411942    4180\n",
      "29.785133    4052\n",
      "26.198553    3999\n",
      "29.626419    3882\n",
      "26.293800    3529\n",
      "26.265417    2406\n",
      "21.333333    2244\n",
      "26.983333    1993\n",
      "27.039028    1664\n",
      "24.449867    1636\n",
      "24.721944     746\n",
      "21.416667     416\n",
      "24.709833       4\n",
      "Name: GEOPOINT, dtype: int64\n",
      "\n",
      "\n"
     ]
    }
   ],
   "source": [
    "for features in df.columns[1:]:\n",
    "    print(df[features].value_counts())\n",
    "    print(\"\\n\")"
   ]
  },
  {
   "cell_type": "markdown",
   "metadata": {
    "id": "3-5vOG4QdvGu"
   },
   "source": [
    "## <font color='MediumPurple'>Drop Outliers</font>"
   ]
  },
  {
   "cell_type": "code",
   "execution_count": 11,
   "metadata": {
    "colab": {
     "base_uri": "https://localhost:8080/",
     "height": 652
    },
    "id": "nQYNdvxHyyny",
    "outputId": "7c87bc7a-8e90-46b2-b890-3cabfbe91021"
   },
   "outputs": [
    {
     "data": {
      "text/plain": [
       "(array([ 0,  1,  2,  3,  4,  5,  6,  7,  8,  9, 10, 11, 12]),\n",
       " [Text(0, 0, 'YEAR'),\n",
       "  Text(1, 0, 'station_id'),\n",
       "  Text(2, 0, 'latitude'),\n",
       "  Text(3, 0, 'longitude'),\n",
       "  Text(4, 0, 'elevation'),\n",
       "  Text(5, 0, 'wind_direction_angle'),\n",
       "  Text(6, 0, 'wind_speed_rate'),\n",
       "  Text(7, 0, 'sky_ceiling_height'),\n",
       "  Text(8, 0, 'visibility_distance'),\n",
       "  Text(9, 0, 'air_temperature'),\n",
       "  Text(10, 0, 'air_temperature_dew_point'),\n",
       "  Text(11, 0, 'atmospheric_sea_level_pressure'),\n",
       "  Text(12, 0, 'GEOPOINT')])"
      ]
     },
     "execution_count": 11,
     "metadata": {},
     "output_type": "execute_result"
    },
    {
     "data": {
      "image/png": "[encoded data removed]",
      "text/plain": [
       "<Figure size 720x504 with 1 Axes>"
      ]
     },
     "metadata": {
      "needs_background": "light"
     },
     "output_type": "display_data"
    }
   ],
   "source": [
    "# outlire in dataset\n",
    "plt.figure(figsize=(10,7))\n",
    "sns.boxplot(data=df)\n",
    "plt.xticks(rotation=90)"
   ]
  },
  {
   "cell_type": "code",
   "execution_count": 12,
   "metadata": {
    "colab": {
     "base_uri": "https://localhost:8080/",
     "height": 404
    },
    "id": "Mtt8UgPndvGu",
    "outputId": "48142d6f-c747-4b8f-e4e9-6438971ab3a1"
   },
   "outputs": [
    {
     "data": {
      "text/plain": [
       "{'whiskers': [<matplotlib.lines.Line2D at 0x20948753670>,\n",
       "  <matplotlib.lines.Line2D at 0x20948753940>],\n",
       " 'caps': [<matplotlib.lines.Line2D at 0x20948753c10>,\n",
       "  <matplotlib.lines.Line2D at 0x20948753ee0>],\n",
       " 'boxes': [<matplotlib.lines.Line2D at 0x209487533a0>],\n",
       " 'medians': [<matplotlib.lines.Line2D at 0x209487611f0>],\n",
       " 'fliers': [<matplotlib.lines.Line2D at 0x209487614c0>],\n",
       " 'means': []}"
      ]
     },
     "execution_count": 12,
     "metadata": {},
     "output_type": "execute_result"
    },
    {
     "data": {
      "image/png": "[encoded data removed]",
      "text/plain": [
       "<Figure size 432x288 with 1 Axes>"
      ]
     },
     "metadata": {
      "needs_background": "light"
     },
     "output_type": "display_data"
    }
   ],
   "source": [
    "plt.boxplot(df.wind_speed_rate)"
   ]
  },
  {
   "cell_type": "markdown",
   "metadata": {
    "id": "gKnPZJVkdvGu"
   },
   "source": [
    "* <font color='LightSteelBlue'>**The normal record for the wind speed are less than 10 mile per hour \n",
    "and the highst record was 200 mile per hour and that happen in 1934 \n",
    "so more than that are not corrict as you can see\n",
    "there is a record tells there was wind speed equal 1000 mile per houre \n",
    "so we fix it be deleting this record to have normal rang**</font>"
   ]
  },
  {
   "cell_type": "code",
   "execution_count": 13,
   "metadata": {
    "colab": {
     "base_uri": "https://localhost:8080/",
     "height": 404
    },
    "id": "bCWGU8QFdvGu",
    "outputId": "63c15f2e-6285-4c86-af84-ad6cf168ff84"
   },
   "outputs": [
    {
     "data": {
      "text/plain": [
       "{'whiskers': [<matplotlib.lines.Line2D at 0x209487aa040>,\n",
       "  <matplotlib.lines.Line2D at 0x209487aa1f0>],\n",
       " 'caps': [<matplotlib.lines.Line2D at 0x209487aa4c0>,\n",
       "  <matplotlib.lines.Line2D at 0x209487aa790>],\n",
       " 'boxes': [<matplotlib.lines.Line2D at 0x2094879fd30>],\n",
       " 'medians': [<matplotlib.lines.Line2D at 0x209487aaa60>],\n",
       " 'fliers': [<matplotlib.lines.Line2D at 0x209487aad30>],\n",
       " 'means': []}"
      ]
     },
     "execution_count": 13,
     "metadata": {},
     "output_type": "execute_result"
    },
    {
     "data": {
      "image/png": "[encoded data removed]",
      "text/plain": [
       "<Figure size 432x288 with 1 Axes>"
      ]
     },
     "metadata": {
      "needs_background": "light"
     },
     "output_type": "display_data"
    }
   ],
   "source": [
    "df = df[df.wind_speed_rate <= 7]\n",
    "plt.boxplot(df.wind_speed_rate)"
   ]
  },
  {
   "cell_type": "code",
   "execution_count": 14,
   "metadata": {
    "colab": {
     "base_uri": "https://localhost:8080/",
     "height": 404
    },
    "id": "95XMVaF5dvGu",
    "outputId": "e25f80e5-457f-4a45-bfce-f6b476a169cc"
   },
   "outputs": [
    {
     "data": {
      "text/plain": [
       "{'whiskers': [<matplotlib.lines.Line2D at 0x209487fe490>,\n",
       "  <matplotlib.lines.Line2D at 0x209487fe760>],\n",
       " 'caps': [<matplotlib.lines.Line2D at 0x209487fea30>,\n",
       "  <matplotlib.lines.Line2D at 0x209487fed00>],\n",
       " 'boxes': [<matplotlib.lines.Line2D at 0x209487fe1c0>],\n",
       " 'medians': [<matplotlib.lines.Line2D at 0x209487fefd0>],\n",
       " 'fliers': [<matplotlib.lines.Line2D at 0x2094880b2e0>],\n",
       " 'means': []}"
      ]
     },
     "execution_count": 14,
     "metadata": {},
     "output_type": "execute_result"
    },
    {
     "data": {
      "image/png": "[encoded data removed]",
      "text/plain": [
       "<Figure size 432x288 with 1 Axes>"
      ]
     },
     "metadata": {
      "needs_background": "light"
     },
     "output_type": "display_data"
    }
   ],
   "source": [
    "plt.boxplot(df.air_temperature)"
   ]
  },
  {
   "cell_type": "markdown",
   "metadata": {
    "id": "io-QJI4TdvGu"
   },
   "source": [
    " * <font color='Peru'>**it impossipal to have a tempreture more than 55 \n",
    "so we also delet this record\n",
    "    And there is some outlaire above 45 and less than 10**</font> "
   ]
  },
  {
   "cell_type": "code",
   "execution_count": 15,
   "metadata": {
    "colab": {
     "base_uri": "https://localhost:8080/",
     "height": 404
    },
    "id": "x5Jcy0ZYdvGv",
    "outputId": "5ccfbdb9-f0f4-4eed-efdd-1df6685e1c3e"
   },
   "outputs": [
    {
     "data": {
      "text/plain": [
       "{'whiskers': [<matplotlib.lines.Line2D at 0x20948845ca0>,\n",
       "  <matplotlib.lines.Line2D at 0x20948845f70>],\n",
       " 'caps': [<matplotlib.lines.Line2D at 0x2094884f280>,\n",
       "  <matplotlib.lines.Line2D at 0x2094884f550>],\n",
       " 'boxes': [<matplotlib.lines.Line2D at 0x209488459d0>],\n",
       " 'medians': [<matplotlib.lines.Line2D at 0x2094884f820>],\n",
       " 'fliers': [<matplotlib.lines.Line2D at 0x2094884faf0>],\n",
       " 'means': []}"
      ]
     },
     "execution_count": 15,
     "metadata": {},
     "output_type": "execute_result"
    },
    {
     "data": {
      "image/png": "[encoded data removed]",
      "text/plain": [
       "<Figure size 432x288 with 1 Axes>"
      ]
     },
     "metadata": {
      "needs_background": "light"
     },
     "output_type": "display_data"
    }
   ],
   "source": [
    "# outlaier \n",
    "df = df[df.air_temperature <= 45 ]\n",
    "df = df[df.air_temperature >10 ]\n",
    "plt.boxplot(df.air_temperature)"
   ]
  },
  {
   "cell_type": "code",
   "execution_count": 16,
   "metadata": {
    "colab": {
     "base_uri": "https://localhost:8080/",
     "height": 404
    },
    "id": "C29tgRgfdvGv",
    "outputId": "57a69222-20d8-4f4c-dc47-db06ffa2c4fd"
   },
   "outputs": [
    {
     "data": {
      "text/plain": [
       "{'whiskers': [<matplotlib.lines.Line2D at 0x20948a66190>,\n",
       "  <matplotlib.lines.Line2D at 0x20948a66400>],\n",
       " 'caps': [<matplotlib.lines.Line2D at 0x20948a666d0>,\n",
       "  <matplotlib.lines.Line2D at 0x20948a669a0>],\n",
       " 'boxes': [<matplotlib.lines.Line2D at 0x20948a5ae80>],\n",
       " 'medians': [<matplotlib.lines.Line2D at 0x20948a66c70>],\n",
       " 'fliers': [<matplotlib.lines.Line2D at 0x20948a66f40>],\n",
       " 'means': []}"
      ]
     },
     "execution_count": 16,
     "metadata": {},
     "output_type": "execute_result"
    },
    {
     "data": {
      "image/png": "[encoded data removed]",
      "text/plain": [
       "<Figure size 432x288 with 1 Axes>"
      ]
     },
     "metadata": {
      "needs_background": "light"
     },
     "output_type": "display_data"
    }
   ],
   "source": [
    "plt.boxplot(df.wind_direction_angle)"
   ]
  },
  {
   "cell_type": "markdown",
   "metadata": {
    "id": "ZSQD_tM4dvGv"
   },
   "source": [
    "* <font color='LightSteelBlue'>**there is 360 degree \n",
    "more than that not correct**</font>\n"
   ]
  },
  {
   "cell_type": "code",
   "execution_count": 17,
   "metadata": {
    "id": "Qw5c77WedvGv"
   },
   "outputs": [],
   "source": [
    "df = df[df.wind_direction_angle <= 360 ]"
   ]
  },
  {
   "cell_type": "code",
   "execution_count": 18,
   "metadata": {
    "colab": {
     "base_uri": "https://localhost:8080/",
     "height": 404
    },
    "id": "UwI1WfB5VB2I",
    "outputId": "114aad58-9c4a-4340-dbdb-b1a291eaa315"
   },
   "outputs": [
    {
     "data": {
      "text/plain": [
       "{'whiskers': [<matplotlib.lines.Line2D at 0x20948ab1460>,\n",
       "  <matplotlib.lines.Line2D at 0x20948ab1730>],\n",
       " 'caps': [<matplotlib.lines.Line2D at 0x20948ab1a00>,\n",
       "  <matplotlib.lines.Line2D at 0x20948ab1cd0>],\n",
       " 'boxes': [<matplotlib.lines.Line2D at 0x20948ab1190>],\n",
       " 'medians': [<matplotlib.lines.Line2D at 0x20948ab1fa0>],\n",
       " 'fliers': [<matplotlib.lines.Line2D at 0x20948abb2b0>],\n",
       " 'means': []}"
      ]
     },
     "execution_count": 18,
     "metadata": {},
     "output_type": "execute_result"
    },
    {
     "data": {
      "image/png": "[encoded data removed]",
      "text/plain": [
       "<Figure size 432x288 with 1 Axes>"
      ]
     },
     "metadata": {
      "needs_background": "light"
     },
     "output_type": "display_data"
    }
   ],
   "source": [
    "plt.boxplot(df.wind_direction_angle)"
   ]
  },
  {
   "cell_type": "markdown",
   "metadata": {
    "id": "OY2RpqRJdvGw"
   },
   "source": [
    "### <font color='MediumPurple'>**Missing/duplicate Value**</font> "
   ]
  },
  {
   "cell_type": "markdown",
   "metadata": {
    "id": "TnM6BQw7dvGw"
   },
   "source": [
    "* <font color='CornflowerBlue'>**Drop Missing record in cavok (Clouds And Visibility OK)**</font>"
   ]
  },
  {
   "cell_type": "code",
   "execution_count": 19,
   "metadata": {
    "colab": {
     "base_uri": "https://localhost:8080/",
     "height": 268
    },
    "id": "mjc-iRMWdvGw",
    "outputId": "0b17c4bc-84e7-4ec4-b3d2-97ef0cbdc002"
   },
   "outputs": [
    {
     "data": {
      "text/html": [
       "<div>\n",
       "<style scoped>\n",
       "    .dataframe tbody tr th:only-of-type {\n",
       "        vertical-align: middle;\n",
       "    }\n",
       "\n",
       "    .dataframe tbody tr th {\n",
       "        vertical-align: top;\n",
       "    }\n",
       "\n",
       "    .dataframe thead th {\n",
       "        text-align: right;\n",
       "    }\n",
       "</style>\n",
       "<table border=\"1\" class=\"dataframe\">\n",
       "  <thead>\n",
       "    <tr style=\"text-align: right;\">\n",
       "      <th></th>\n",
       "      <th>YEAR</th>\n",
       "      <th>station_country</th>\n",
       "      <th>station_name</th>\n",
       "      <th>station_id</th>\n",
       "      <th>observation_date</th>\n",
       "      <th>latitude</th>\n",
       "      <th>longitude</th>\n",
       "      <th>elevation</th>\n",
       "      <th>wind_direction_angle</th>\n",
       "      <th>wind_direction_angle_units</th>\n",
       "      <th>...</th>\n",
       "      <th>air_temperature</th>\n",
       "      <th>air_temperature_units</th>\n",
       "      <th>air_temperature_quality</th>\n",
       "      <th>air_temperature_dew_point</th>\n",
       "      <th>air_temperature_dew_point_units</th>\n",
       "      <th>air_temperature_dew_point_quality</th>\n",
       "      <th>atmospheric_sea_level_pressure</th>\n",
       "      <th>atmospheric_sea_level_pressure_units</th>\n",
       "      <th>atmospheric_sea_level_pressure_quality</th>\n",
       "      <th>GEOPOINT</th>\n",
       "    </tr>\n",
       "    <tr>\n",
       "      <th>sky_cavok</th>\n",
       "      <th></th>\n",
       "      <th></th>\n",
       "      <th></th>\n",
       "      <th></th>\n",
       "      <th></th>\n",
       "      <th></th>\n",
       "      <th></th>\n",
       "      <th></th>\n",
       "      <th></th>\n",
       "      <th></th>\n",
       "      <th></th>\n",
       "      <th></th>\n",
       "      <th></th>\n",
       "      <th></th>\n",
       "      <th></th>\n",
       "      <th></th>\n",
       "      <th></th>\n",
       "      <th></th>\n",
       "      <th></th>\n",
       "      <th></th>\n",
       "      <th></th>\n",
       "    </tr>\n",
       "  </thead>\n",
       "  <tbody>\n",
       "    <tr>\n",
       "      <th>Missing</th>\n",
       "      <td>343</td>\n",
       "      <td>343</td>\n",
       "      <td>343</td>\n",
       "      <td>343</td>\n",
       "      <td>343</td>\n",
       "      <td>343</td>\n",
       "      <td>343</td>\n",
       "      <td>343</td>\n",
       "      <td>343</td>\n",
       "      <td>343</td>\n",
       "      <td>...</td>\n",
       "      <td>343</td>\n",
       "      <td>343</td>\n",
       "      <td>343</td>\n",
       "      <td>343</td>\n",
       "      <td>343</td>\n",
       "      <td>343</td>\n",
       "      <td>343</td>\n",
       "      <td>343</td>\n",
       "      <td>343</td>\n",
       "      <td>343</td>\n",
       "    </tr>\n",
       "    <tr>\n",
       "      <th>No</th>\n",
       "      <td>101464</td>\n",
       "      <td>101464</td>\n",
       "      <td>101464</td>\n",
       "      <td>101464</td>\n",
       "      <td>101464</td>\n",
       "      <td>101464</td>\n",
       "      <td>101464</td>\n",
       "      <td>101464</td>\n",
       "      <td>101464</td>\n",
       "      <td>101464</td>\n",
       "      <td>...</td>\n",
       "      <td>101464</td>\n",
       "      <td>101464</td>\n",
       "      <td>101464</td>\n",
       "      <td>101462</td>\n",
       "      <td>101462</td>\n",
       "      <td>101462</td>\n",
       "      <td>101462</td>\n",
       "      <td>101462</td>\n",
       "      <td>101462</td>\n",
       "      <td>101461</td>\n",
       "    </tr>\n",
       "  </tbody>\n",
       "</table>\n",
       "<p>2 rows × 34 columns</p>\n",
       "</div>"
      ],
      "text/plain": [
       "             YEAR  station_country  station_name  station_id  \\\n",
       "sky_cavok                                                      \n",
       "Missing       343              343           343         343   \n",
       "No         101464           101464        101464      101464   \n",
       "\n",
       "           observation_date  latitude  longitude  elevation  \\\n",
       "sky_cavok                                                     \n",
       "Missing                 343       343        343        343   \n",
       "No                   101464    101464     101464     101464   \n",
       "\n",
       "           wind_direction_angle  wind_direction_angle_units  ...  \\\n",
       "sky_cavok                                                    ...   \n",
       "Missing                     343                         343  ...   \n",
       "No                       101464                      101464  ...   \n",
       "\n",
       "           air_temperature  air_temperature_units  air_temperature_quality  \\\n",
       "sky_cavok                                                                    \n",
       "Missing                343                    343                      343   \n",
       "No                  101464                 101464                   101464   \n",
       "\n",
       "           air_temperature_dew_point  air_temperature_dew_point_units  \\\n",
       "sky_cavok                                                               \n",
       "Missing                          343                              343   \n",
       "No                            101462                           101462   \n",
       "\n",
       "           air_temperature_dew_point_quality  atmospheric_sea_level_pressure  \\\n",
       "sky_cavok                                                                      \n",
       "Missing                                  343                             343   \n",
       "No                                    101462                          101462   \n",
       "\n",
       "           atmospheric_sea_level_pressure_units  \\\n",
       "sky_cavok                                         \n",
       "Missing                                     343   \n",
       "No                                       101462   \n",
       "\n",
       "           atmospheric_sea_level_pressure_quality  GEOPOINT  \n",
       "sky_cavok                                                    \n",
       "Missing                                       343       343  \n",
       "No                                         101462    101461  \n",
       "\n",
       "[2 rows x 34 columns]"
      ]
     },
     "execution_count": 19,
     "metadata": {},
     "output_type": "execute_result"
    }
   ],
   "source": [
    "df.groupby('sky_cavok').count()"
   ]
  },
  {
   "cell_type": "code",
   "execution_count": 20,
   "metadata": {
    "id": "fPPScTC3dvGw"
   },
   "outputs": [],
   "source": [
    "df = df[df.sky_cavok != 'Missing']"
   ]
  },
  {
   "cell_type": "code",
   "execution_count": 21,
   "metadata": {
    "colab": {
     "base_uri": "https://localhost:8080/",
     "height": 237
    },
    "id": "5lUZaTpqdvGw",
    "outputId": "2522bfa3-95e8-4a43-8669-5f8ba073e27d"
   },
   "outputs": [
    {
     "data": {
      "text/html": [
       "<div>\n",
       "<style scoped>\n",
       "    .dataframe tbody tr th:only-of-type {\n",
       "        vertical-align: middle;\n",
       "    }\n",
       "\n",
       "    .dataframe tbody tr th {\n",
       "        vertical-align: top;\n",
       "    }\n",
       "\n",
       "    .dataframe thead th {\n",
       "        text-align: right;\n",
       "    }\n",
       "</style>\n",
       "<table border=\"1\" class=\"dataframe\">\n",
       "  <thead>\n",
       "    <tr style=\"text-align: right;\">\n",
       "      <th></th>\n",
       "      <th>YEAR</th>\n",
       "      <th>station_country</th>\n",
       "      <th>station_name</th>\n",
       "      <th>station_id</th>\n",
       "      <th>observation_date</th>\n",
       "      <th>latitude</th>\n",
       "      <th>longitude</th>\n",
       "      <th>elevation</th>\n",
       "      <th>wind_direction_angle</th>\n",
       "      <th>wind_direction_angle_units</th>\n",
       "      <th>...</th>\n",
       "      <th>air_temperature</th>\n",
       "      <th>air_temperature_units</th>\n",
       "      <th>air_temperature_quality</th>\n",
       "      <th>air_temperature_dew_point</th>\n",
       "      <th>air_temperature_dew_point_units</th>\n",
       "      <th>air_temperature_dew_point_quality</th>\n",
       "      <th>atmospheric_sea_level_pressure</th>\n",
       "      <th>atmospheric_sea_level_pressure_units</th>\n",
       "      <th>atmospheric_sea_level_pressure_quality</th>\n",
       "      <th>GEOPOINT</th>\n",
       "    </tr>\n",
       "    <tr>\n",
       "      <th>sky_cavok</th>\n",
       "      <th></th>\n",
       "      <th></th>\n",
       "      <th></th>\n",
       "      <th></th>\n",
       "      <th></th>\n",
       "      <th></th>\n",
       "      <th></th>\n",
       "      <th></th>\n",
       "      <th></th>\n",
       "      <th></th>\n",
       "      <th></th>\n",
       "      <th></th>\n",
       "      <th></th>\n",
       "      <th></th>\n",
       "      <th></th>\n",
       "      <th></th>\n",
       "      <th></th>\n",
       "      <th></th>\n",
       "      <th></th>\n",
       "      <th></th>\n",
       "      <th></th>\n",
       "    </tr>\n",
       "  </thead>\n",
       "  <tbody>\n",
       "    <tr>\n",
       "      <th>No</th>\n",
       "      <td>101464</td>\n",
       "      <td>101464</td>\n",
       "      <td>101464</td>\n",
       "      <td>101464</td>\n",
       "      <td>101464</td>\n",
       "      <td>101464</td>\n",
       "      <td>101464</td>\n",
       "      <td>101464</td>\n",
       "      <td>101464</td>\n",
       "      <td>101464</td>\n",
       "      <td>...</td>\n",
       "      <td>101464</td>\n",
       "      <td>101464</td>\n",
       "      <td>101464</td>\n",
       "      <td>101462</td>\n",
       "      <td>101462</td>\n",
       "      <td>101462</td>\n",
       "      <td>101462</td>\n",
       "      <td>101462</td>\n",
       "      <td>101462</td>\n",
       "      <td>101461</td>\n",
       "    </tr>\n",
       "  </tbody>\n",
       "</table>\n",
       "<p>1 rows × 34 columns</p>\n",
       "</div>"
      ],
      "text/plain": [
       "             YEAR  station_country  station_name  station_id  \\\n",
       "sky_cavok                                                      \n",
       "No         101464           101464        101464      101464   \n",
       "\n",
       "           observation_date  latitude  longitude  elevation  \\\n",
       "sky_cavok                                                     \n",
       "No                   101464    101464     101464     101464   \n",
       "\n",
       "           wind_direction_angle  wind_direction_angle_units  ...  \\\n",
       "sky_cavok                                                    ...   \n",
       "No                       101464                      101464  ...   \n",
       "\n",
       "           air_temperature  air_temperature_units  air_temperature_quality  \\\n",
       "sky_cavok                                                                    \n",
       "No                  101464                 101464                   101464   \n",
       "\n",
       "           air_temperature_dew_point  air_temperature_dew_point_units  \\\n",
       "sky_cavok                                                               \n",
       "No                            101462                           101462   \n",
       "\n",
       "           air_temperature_dew_point_quality  atmospheric_sea_level_pressure  \\\n",
       "sky_cavok                                                                      \n",
       "No                                    101462                          101462   \n",
       "\n",
       "           atmospheric_sea_level_pressure_units  \\\n",
       "sky_cavok                                         \n",
       "No                                       101462   \n",
       "\n",
       "           atmospheric_sea_level_pressure_quality  GEOPOINT  \n",
       "sky_cavok                                                    \n",
       "No                                         101462    101461  \n",
       "\n",
       "[1 rows x 34 columns]"
      ]
     },
     "execution_count": 21,
     "metadata": {},
     "output_type": "execute_result"
    }
   ],
   "source": [
    "df.groupby('sky_cavok').count()"
   ]
  },
  {
   "cell_type": "markdown",
   "metadata": {
    "id": "fzusnDmBdvGx"
   },
   "source": [
    "* <font color='Peru'>**Drop Variable and Missing records**</font> "
   ]
  },
  {
   "cell_type": "code",
   "execution_count": 22,
   "metadata": {
    "colab": {
     "base_uri": "https://localhost:8080/",
     "height": 237
    },
    "id": "x8SlSZrIdvGx",
    "outputId": "3cf173ef-544f-42af-e4c0-5a0367e0e8a5"
   },
   "outputs": [
    {
     "data": {
      "text/html": [
       "<div>\n",
       "<style scoped>\n",
       "    .dataframe tbody tr th:only-of-type {\n",
       "        vertical-align: middle;\n",
       "    }\n",
       "\n",
       "    .dataframe tbody tr th {\n",
       "        vertical-align: top;\n",
       "    }\n",
       "\n",
       "    .dataframe thead th {\n",
       "        text-align: right;\n",
       "    }\n",
       "</style>\n",
       "<table border=\"1\" class=\"dataframe\">\n",
       "  <thead>\n",
       "    <tr style=\"text-align: right;\">\n",
       "      <th></th>\n",
       "      <th>YEAR</th>\n",
       "      <th>station_country</th>\n",
       "      <th>station_name</th>\n",
       "      <th>station_id</th>\n",
       "      <th>observation_date</th>\n",
       "      <th>latitude</th>\n",
       "      <th>longitude</th>\n",
       "      <th>elevation</th>\n",
       "      <th>wind_direction_angle</th>\n",
       "      <th>wind_direction_angle_units</th>\n",
       "      <th>...</th>\n",
       "      <th>air_temperature</th>\n",
       "      <th>air_temperature_units</th>\n",
       "      <th>air_temperature_quality</th>\n",
       "      <th>air_temperature_dew_point</th>\n",
       "      <th>air_temperature_dew_point_units</th>\n",
       "      <th>air_temperature_dew_point_quality</th>\n",
       "      <th>atmospheric_sea_level_pressure</th>\n",
       "      <th>atmospheric_sea_level_pressure_units</th>\n",
       "      <th>atmospheric_sea_level_pressure_quality</th>\n",
       "      <th>GEOPOINT</th>\n",
       "    </tr>\n",
       "    <tr>\n",
       "      <th>wind_type</th>\n",
       "      <th></th>\n",
       "      <th></th>\n",
       "      <th></th>\n",
       "      <th></th>\n",
       "      <th></th>\n",
       "      <th></th>\n",
       "      <th></th>\n",
       "      <th></th>\n",
       "      <th></th>\n",
       "      <th></th>\n",
       "      <th></th>\n",
       "      <th></th>\n",
       "      <th></th>\n",
       "      <th></th>\n",
       "      <th></th>\n",
       "      <th></th>\n",
       "      <th></th>\n",
       "      <th></th>\n",
       "      <th></th>\n",
       "      <th></th>\n",
       "      <th></th>\n",
       "    </tr>\n",
       "  </thead>\n",
       "  <tbody>\n",
       "    <tr>\n",
       "      <th>Normal</th>\n",
       "      <td>101088</td>\n",
       "      <td>101088</td>\n",
       "      <td>101088</td>\n",
       "      <td>101088</td>\n",
       "      <td>101088</td>\n",
       "      <td>101088</td>\n",
       "      <td>101088</td>\n",
       "      <td>101088</td>\n",
       "      <td>101088</td>\n",
       "      <td>101088</td>\n",
       "      <td>...</td>\n",
       "      <td>101088</td>\n",
       "      <td>101088</td>\n",
       "      <td>101088</td>\n",
       "      <td>101086</td>\n",
       "      <td>101086</td>\n",
       "      <td>101086</td>\n",
       "      <td>101086</td>\n",
       "      <td>101086</td>\n",
       "      <td>101086</td>\n",
       "      <td>101085</td>\n",
       "    </tr>\n",
       "    <tr>\n",
       "      <th>Variable</th>\n",
       "      <td>376</td>\n",
       "      <td>376</td>\n",
       "      <td>376</td>\n",
       "      <td>376</td>\n",
       "      <td>376</td>\n",
       "      <td>376</td>\n",
       "      <td>376</td>\n",
       "      <td>376</td>\n",
       "      <td>376</td>\n",
       "      <td>376</td>\n",
       "      <td>...</td>\n",
       "      <td>376</td>\n",
       "      <td>376</td>\n",
       "      <td>376</td>\n",
       "      <td>376</td>\n",
       "      <td>376</td>\n",
       "      <td>376</td>\n",
       "      <td>376</td>\n",
       "      <td>376</td>\n",
       "      <td>376</td>\n",
       "      <td>376</td>\n",
       "    </tr>\n",
       "  </tbody>\n",
       "</table>\n",
       "<p>2 rows × 34 columns</p>\n",
       "</div>"
      ],
      "text/plain": [
       "             YEAR  station_country  station_name  station_id  \\\n",
       "wind_type                                                      \n",
       "Normal     101088           101088        101088      101088   \n",
       "Variable      376              376           376         376   \n",
       "\n",
       "           observation_date  latitude  longitude  elevation  \\\n",
       "wind_type                                                     \n",
       "Normal               101088    101088     101088     101088   \n",
       "Variable                376       376        376        376   \n",
       "\n",
       "           wind_direction_angle  wind_direction_angle_units  ...  \\\n",
       "wind_type                                                    ...   \n",
       "Normal                   101088                      101088  ...   \n",
       "Variable                    376                         376  ...   \n",
       "\n",
       "           air_temperature  air_temperature_units  air_temperature_quality  \\\n",
       "wind_type                                                                    \n",
       "Normal              101088                 101088                   101088   \n",
       "Variable               376                    376                      376   \n",
       "\n",
       "           air_temperature_dew_point  air_temperature_dew_point_units  \\\n",
       "wind_type                                                               \n",
       "Normal                        101086                           101086   \n",
       "Variable                         376                              376   \n",
       "\n",
       "           air_temperature_dew_point_quality  atmospheric_sea_level_pressure  \\\n",
       "wind_type                                                                      \n",
       "Normal                                101086                          101086   \n",
       "Variable                                 376                             376   \n",
       "\n",
       "           atmospheric_sea_level_pressure_units  \\\n",
       "wind_type                                         \n",
       "Normal                                   101086   \n",
       "Variable                                    376   \n",
       "\n",
       "           atmospheric_sea_level_pressure_quality  GEOPOINT  \n",
       "wind_type                                                    \n",
       "Normal                                     101086    101085  \n",
       "Variable                                      376       376  \n",
       "\n",
       "[2 rows x 34 columns]"
      ]
     },
     "execution_count": 22,
     "metadata": {},
     "output_type": "execute_result"
    }
   ],
   "source": [
    "df.groupby('wind_type').count()"
   ]
  },
  {
   "cell_type": "code",
   "execution_count": 23,
   "metadata": {
    "id": "6N2dSvladvGx"
   },
   "outputs": [],
   "source": [
    "df = df[df.wind_type != 'Variable']"
   ]
  },
  {
   "cell_type": "code",
   "execution_count": 24,
   "metadata": {
    "id": "gsahE_SfK3-F"
   },
   "outputs": [],
   "source": [
    "df = df[df.wind_type != 'Missing']"
   ]
  },
  {
   "cell_type": "code",
   "execution_count": 25,
   "metadata": {
    "colab": {
     "base_uri": "https://localhost:8080/",
     "height": 205
    },
    "id": "pxdHDZ64LGeB",
    "outputId": "b936def0-5744-4eca-b3e5-fac32675352c"
   },
   "outputs": [
    {
     "data": {
      "text/html": [
       "<div>\n",
       "<style scoped>\n",
       "    .dataframe tbody tr th:only-of-type {\n",
       "        vertical-align: middle;\n",
       "    }\n",
       "\n",
       "    .dataframe tbody tr th {\n",
       "        vertical-align: top;\n",
       "    }\n",
       "\n",
       "    .dataframe thead th {\n",
       "        text-align: right;\n",
       "    }\n",
       "</style>\n",
       "<table border=\"1\" class=\"dataframe\">\n",
       "  <thead>\n",
       "    <tr style=\"text-align: right;\">\n",
       "      <th></th>\n",
       "      <th>YEAR</th>\n",
       "      <th>station_country</th>\n",
       "      <th>station_name</th>\n",
       "      <th>station_id</th>\n",
       "      <th>observation_date</th>\n",
       "      <th>latitude</th>\n",
       "      <th>longitude</th>\n",
       "      <th>elevation</th>\n",
       "      <th>wind_direction_angle</th>\n",
       "      <th>wind_direction_angle_units</th>\n",
       "      <th>...</th>\n",
       "      <th>air_temperature</th>\n",
       "      <th>air_temperature_units</th>\n",
       "      <th>air_temperature_quality</th>\n",
       "      <th>air_temperature_dew_point</th>\n",
       "      <th>air_temperature_dew_point_units</th>\n",
       "      <th>air_temperature_dew_point_quality</th>\n",
       "      <th>atmospheric_sea_level_pressure</th>\n",
       "      <th>atmospheric_sea_level_pressure_units</th>\n",
       "      <th>atmospheric_sea_level_pressure_quality</th>\n",
       "      <th>GEOPOINT</th>\n",
       "    </tr>\n",
       "    <tr>\n",
       "      <th>wind_type</th>\n",
       "      <th></th>\n",
       "      <th></th>\n",
       "      <th></th>\n",
       "      <th></th>\n",
       "      <th></th>\n",
       "      <th></th>\n",
       "      <th></th>\n",
       "      <th></th>\n",
       "      <th></th>\n",
       "      <th></th>\n",
       "      <th></th>\n",
       "      <th></th>\n",
       "      <th></th>\n",
       "      <th></th>\n",
       "      <th></th>\n",
       "      <th></th>\n",
       "      <th></th>\n",
       "      <th></th>\n",
       "      <th></th>\n",
       "      <th></th>\n",
       "      <th></th>\n",
       "    </tr>\n",
       "  </thead>\n",
       "  <tbody>\n",
       "    <tr>\n",
       "      <th>Normal</th>\n",
       "      <td>101088</td>\n",
       "      <td>101088</td>\n",
       "      <td>101088</td>\n",
       "      <td>101088</td>\n",
       "      <td>101088</td>\n",
       "      <td>101088</td>\n",
       "      <td>101088</td>\n",
       "      <td>101088</td>\n",
       "      <td>101088</td>\n",
       "      <td>101088</td>\n",
       "      <td>...</td>\n",
       "      <td>101088</td>\n",
       "      <td>101088</td>\n",
       "      <td>101088</td>\n",
       "      <td>101086</td>\n",
       "      <td>101086</td>\n",
       "      <td>101086</td>\n",
       "      <td>101086</td>\n",
       "      <td>101086</td>\n",
       "      <td>101086</td>\n",
       "      <td>101085</td>\n",
       "    </tr>\n",
       "  </tbody>\n",
       "</table>\n",
       "<p>1 rows × 34 columns</p>\n",
       "</div>"
      ],
      "text/plain": [
       "             YEAR  station_country  station_name  station_id  \\\n",
       "wind_type                                                      \n",
       "Normal     101088           101088        101088      101088   \n",
       "\n",
       "           observation_date  latitude  longitude  elevation  \\\n",
       "wind_type                                                     \n",
       "Normal               101088    101088     101088     101088   \n",
       "\n",
       "           wind_direction_angle  wind_direction_angle_units  ...  \\\n",
       "wind_type                                                    ...   \n",
       "Normal                   101088                      101088  ...   \n",
       "\n",
       "           air_temperature  air_temperature_units  air_temperature_quality  \\\n",
       "wind_type                                                                    \n",
       "Normal              101088                 101088                   101088   \n",
       "\n",
       "           air_temperature_dew_point  air_temperature_dew_point_units  \\\n",
       "wind_type                                                               \n",
       "Normal                        101086                           101086   \n",
       "\n",
       "           air_temperature_dew_point_quality  atmospheric_sea_level_pressure  \\\n",
       "wind_type                                                                      \n",
       "Normal                                101086                          101086   \n",
       "\n",
       "           atmospheric_sea_level_pressure_units  \\\n",
       "wind_type                                         \n",
       "Normal                                   101086   \n",
       "\n",
       "           atmospheric_sea_level_pressure_quality  GEOPOINT  \n",
       "wind_type                                                    \n",
       "Normal                                     101086    101085  \n",
       "\n",
       "[1 rows x 34 columns]"
      ]
     },
     "execution_count": 25,
     "metadata": {},
     "output_type": "execute_result"
    }
   ],
   "source": [
    "df.groupby('wind_type').count()"
   ]
  },
  {
   "cell_type": "markdown",
   "metadata": {
    "id": "c_Ip1x_edvGx"
   },
   "source": [
    "* <font color='Peru'>**Drop station_country column it all about Saudi Arabia (SA)**</font>"
   ]
  },
  {
   "cell_type": "code",
   "execution_count": 26,
   "metadata": {
    "colab": {
     "base_uri": "https://localhost:8080/",
     "height": 205
    },
    "id": "cP65aqsQdvGx",
    "outputId": "506c973e-6bc0-46ce-ffd5-ebffc38af671"
   },
   "outputs": [
    {
     "data": {
      "text/html": [
       "<div>\n",
       "<style scoped>\n",
       "    .dataframe tbody tr th:only-of-type {\n",
       "        vertical-align: middle;\n",
       "    }\n",
       "\n",
       "    .dataframe tbody tr th {\n",
       "        vertical-align: top;\n",
       "    }\n",
       "\n",
       "    .dataframe thead th {\n",
       "        text-align: right;\n",
       "    }\n",
       "</style>\n",
       "<table border=\"1\" class=\"dataframe\">\n",
       "  <thead>\n",
       "    <tr style=\"text-align: right;\">\n",
       "      <th></th>\n",
       "      <th>YEAR</th>\n",
       "      <th>station_name</th>\n",
       "      <th>station_id</th>\n",
       "      <th>observation_date</th>\n",
       "      <th>latitude</th>\n",
       "      <th>longitude</th>\n",
       "      <th>elevation</th>\n",
       "      <th>wind_direction_angle</th>\n",
       "      <th>wind_direction_angle_units</th>\n",
       "      <th>wind_direction_quality</th>\n",
       "      <th>...</th>\n",
       "      <th>air_temperature</th>\n",
       "      <th>air_temperature_units</th>\n",
       "      <th>air_temperature_quality</th>\n",
       "      <th>air_temperature_dew_point</th>\n",
       "      <th>air_temperature_dew_point_units</th>\n",
       "      <th>air_temperature_dew_point_quality</th>\n",
       "      <th>atmospheric_sea_level_pressure</th>\n",
       "      <th>atmospheric_sea_level_pressure_units</th>\n",
       "      <th>atmospheric_sea_level_pressure_quality</th>\n",
       "      <th>GEOPOINT</th>\n",
       "    </tr>\n",
       "    <tr>\n",
       "      <th>station_country</th>\n",
       "      <th></th>\n",
       "      <th></th>\n",
       "      <th></th>\n",
       "      <th></th>\n",
       "      <th></th>\n",
       "      <th></th>\n",
       "      <th></th>\n",
       "      <th></th>\n",
       "      <th></th>\n",
       "      <th></th>\n",
       "      <th></th>\n",
       "      <th></th>\n",
       "      <th></th>\n",
       "      <th></th>\n",
       "      <th></th>\n",
       "      <th></th>\n",
       "      <th></th>\n",
       "      <th></th>\n",
       "      <th></th>\n",
       "      <th></th>\n",
       "      <th></th>\n",
       "    </tr>\n",
       "  </thead>\n",
       "  <tbody>\n",
       "    <tr>\n",
       "      <th>SA</th>\n",
       "      <td>101088</td>\n",
       "      <td>101088</td>\n",
       "      <td>101088</td>\n",
       "      <td>101088</td>\n",
       "      <td>101088</td>\n",
       "      <td>101088</td>\n",
       "      <td>101088</td>\n",
       "      <td>101088</td>\n",
       "      <td>101088</td>\n",
       "      <td>101088</td>\n",
       "      <td>...</td>\n",
       "      <td>101088</td>\n",
       "      <td>101088</td>\n",
       "      <td>101088</td>\n",
       "      <td>101086</td>\n",
       "      <td>101086</td>\n",
       "      <td>101086</td>\n",
       "      <td>101086</td>\n",
       "      <td>101086</td>\n",
       "      <td>101086</td>\n",
       "      <td>101085</td>\n",
       "    </tr>\n",
       "  </tbody>\n",
       "</table>\n",
       "<p>1 rows × 34 columns</p>\n",
       "</div>"
      ],
      "text/plain": [
       "                   YEAR  station_name  station_id  observation_date  latitude  \\\n",
       "station_country                                                                 \n",
       "SA               101088        101088      101088            101088    101088   \n",
       "\n",
       "                 longitude  elevation  wind_direction_angle  \\\n",
       "station_country                                               \n",
       "SA                  101088     101088                101088   \n",
       "\n",
       "                 wind_direction_angle_units  wind_direction_quality  ...  \\\n",
       "station_country                                                      ...   \n",
       "SA                                   101088                  101088  ...   \n",
       "\n",
       "                 air_temperature  air_temperature_units  \\\n",
       "station_country                                           \n",
       "SA                        101088                 101088   \n",
       "\n",
       "                 air_temperature_quality  air_temperature_dew_point  \\\n",
       "station_country                                                       \n",
       "SA                                101088                     101086   \n",
       "\n",
       "                 air_temperature_dew_point_units  \\\n",
       "station_country                                    \n",
       "SA                                        101086   \n",
       "\n",
       "                 air_temperature_dew_point_quality  \\\n",
       "station_country                                      \n",
       "SA                                          101086   \n",
       "\n",
       "                 atmospheric_sea_level_pressure  \\\n",
       "station_country                                   \n",
       "SA                                       101086   \n",
       "\n",
       "                 atmospheric_sea_level_pressure_units  \\\n",
       "station_country                                         \n",
       "SA                                             101086   \n",
       "\n",
       "                 atmospheric_sea_level_pressure_quality  GEOPOINT  \n",
       "station_country                                                    \n",
       "SA                                               101086    101085  \n",
       "\n",
       "[1 rows x 34 columns]"
      ]
     },
     "execution_count": 26,
     "metadata": {},
     "output_type": "execute_result"
    }
   ],
   "source": [
    "df.groupby('station_country').count()"
   ]
  },
  {
   "cell_type": "code",
   "execution_count": 27,
   "metadata": {
    "id": "SPaFAH-AdvGy"
   },
   "outputs": [],
   "source": [
    "df = df.drop('station_country', axis=1) # All SA"
   ]
  },
  {
   "cell_type": "markdown",
   "metadata": {
    "id": "FBUzpSTDdvGy"
   },
   "source": [
    "* <font color='CornflowerBlue'>**Drop visibility_variability all the record are missing**</font> "
   ]
  },
  {
   "cell_type": "code",
   "execution_count": 28,
   "metadata": {
    "colab": {
     "base_uri": "https://localhost:8080/",
     "height": 237
    },
    "id": "FPCx0y2gdvGy",
    "outputId": "42c0dbfd-9fe0-4cd8-c632-7034f6383911"
   },
   "outputs": [
    {
     "data": {
      "text/html": [
       "<div>\n",
       "<style scoped>\n",
       "    .dataframe tbody tr th:only-of-type {\n",
       "        vertical-align: middle;\n",
       "    }\n",
       "\n",
       "    .dataframe tbody tr th {\n",
       "        vertical-align: top;\n",
       "    }\n",
       "\n",
       "    .dataframe thead th {\n",
       "        text-align: right;\n",
       "    }\n",
       "</style>\n",
       "<table border=\"1\" class=\"dataframe\">\n",
       "  <thead>\n",
       "    <tr style=\"text-align: right;\">\n",
       "      <th></th>\n",
       "      <th>YEAR</th>\n",
       "      <th>station_name</th>\n",
       "      <th>station_id</th>\n",
       "      <th>observation_date</th>\n",
       "      <th>latitude</th>\n",
       "      <th>longitude</th>\n",
       "      <th>elevation</th>\n",
       "      <th>wind_direction_angle</th>\n",
       "      <th>wind_direction_angle_units</th>\n",
       "      <th>wind_direction_quality</th>\n",
       "      <th>...</th>\n",
       "      <th>air_temperature</th>\n",
       "      <th>air_temperature_units</th>\n",
       "      <th>air_temperature_quality</th>\n",
       "      <th>air_temperature_dew_point</th>\n",
       "      <th>air_temperature_dew_point_units</th>\n",
       "      <th>air_temperature_dew_point_quality</th>\n",
       "      <th>atmospheric_sea_level_pressure</th>\n",
       "      <th>atmospheric_sea_level_pressure_units</th>\n",
       "      <th>atmospheric_sea_level_pressure_quality</th>\n",
       "      <th>GEOPOINT</th>\n",
       "    </tr>\n",
       "    <tr>\n",
       "      <th>visibility_variability</th>\n",
       "      <th></th>\n",
       "      <th></th>\n",
       "      <th></th>\n",
       "      <th></th>\n",
       "      <th></th>\n",
       "      <th></th>\n",
       "      <th></th>\n",
       "      <th></th>\n",
       "      <th></th>\n",
       "      <th></th>\n",
       "      <th></th>\n",
       "      <th></th>\n",
       "      <th></th>\n",
       "      <th></th>\n",
       "      <th></th>\n",
       "      <th></th>\n",
       "      <th></th>\n",
       "      <th></th>\n",
       "      <th></th>\n",
       "      <th></th>\n",
       "      <th></th>\n",
       "    </tr>\n",
       "  </thead>\n",
       "  <tbody>\n",
       "    <tr>\n",
       "      <th>Missing</th>\n",
       "      <td>101088</td>\n",
       "      <td>101088</td>\n",
       "      <td>101088</td>\n",
       "      <td>101088</td>\n",
       "      <td>101088</td>\n",
       "      <td>101088</td>\n",
       "      <td>101088</td>\n",
       "      <td>101088</td>\n",
       "      <td>101088</td>\n",
       "      <td>101088</td>\n",
       "      <td>...</td>\n",
       "      <td>101088</td>\n",
       "      <td>101088</td>\n",
       "      <td>101088</td>\n",
       "      <td>101086</td>\n",
       "      <td>101086</td>\n",
       "      <td>101086</td>\n",
       "      <td>101086</td>\n",
       "      <td>101086</td>\n",
       "      <td>101086</td>\n",
       "      <td>101085</td>\n",
       "    </tr>\n",
       "  </tbody>\n",
       "</table>\n",
       "<p>1 rows × 33 columns</p>\n",
       "</div>"
      ],
      "text/plain": [
       "                          YEAR  station_name  station_id  observation_date  \\\n",
       "visibility_variability                                                       \n",
       "Missing                 101088        101088      101088            101088   \n",
       "\n",
       "                        latitude  longitude  elevation  wind_direction_angle  \\\n",
       "visibility_variability                                                         \n",
       "Missing                   101088     101088     101088                101088   \n",
       "\n",
       "                        wind_direction_angle_units  wind_direction_quality  \\\n",
       "visibility_variability                                                       \n",
       "Missing                                     101088                  101088   \n",
       "\n",
       "                        ...  air_temperature  air_temperature_units  \\\n",
       "visibility_variability  ...                                           \n",
       "Missing                 ...           101088                 101088   \n",
       "\n",
       "                        air_temperature_quality  air_temperature_dew_point  \\\n",
       "visibility_variability                                                       \n",
       "Missing                                  101088                     101086   \n",
       "\n",
       "                        air_temperature_dew_point_units  \\\n",
       "visibility_variability                                    \n",
       "Missing                                          101086   \n",
       "\n",
       "                        air_temperature_dew_point_quality  \\\n",
       "visibility_variability                                      \n",
       "Missing                                            101086   \n",
       "\n",
       "                        atmospheric_sea_level_pressure  \\\n",
       "visibility_variability                                   \n",
       "Missing                                         101086   \n",
       "\n",
       "                        atmospheric_sea_level_pressure_units  \\\n",
       "visibility_variability                                         \n",
       "Missing                                               101086   \n",
       "\n",
       "                        atmospheric_sea_level_pressure_quality  GEOPOINT  \n",
       "visibility_variability                                                    \n",
       "Missing                                                 101086    101085  \n",
       "\n",
       "[1 rows x 33 columns]"
      ]
     },
     "execution_count": 28,
     "metadata": {},
     "output_type": "execute_result"
    }
   ],
   "source": [
    "df.groupby('visibility_variability').count()"
   ]
  },
  {
   "cell_type": "code",
   "execution_count": 29,
   "metadata": {
    "id": "Mitw2xZ_dvGy"
   },
   "outputs": [],
   "source": [
    "df = df.drop('visibility_variability', axis=1) # all with Missing value "
   ]
  },
  {
   "cell_type": "markdown",
   "metadata": {
    "id": "5d3SVAWHVB2M"
   },
   "source": [
    "* <font color='CornflowerBlue'>**Drop unnecessary or redundant columns**</font> "
   ]
  },
  {
   "cell_type": "code",
   "execution_count": 30,
   "metadata": {
    "id": "VcBmC1dSVB2M"
   },
   "outputs": [],
   "source": [
    "df = df.drop('station_id', axis=1)\n",
    "df = df.drop('latitude', axis=1)\n",
    "df = df.drop('longitude', axis=1)\n",
    "df = df.drop('wind_direction_angle_units', axis=1)\n",
    "df = df.drop('wind_direction_quality', axis=1)\n",
    "df = df.drop('air_temperature_dew_point', axis=1)\n",
    "df = df.drop('sky_ceiling_quality', axis=1)\n",
    "df = df.drop('sky_ceiling_height_units', axis=1)\n",
    "df = df.drop('visibility_distance_quality', axis=1)\n",
    "df = df.drop('visibility_variability_quality', axis=1)\n",
    "df = df.drop('air_temperature_units', axis=1)\n",
    "df = df.drop('air_temperature_quality', axis=1)\n",
    "df = df.drop('air_temperature_dew_point_units', axis=1)\n",
    "df = df.drop('air_temperature_dew_point_quality', axis=1)\n",
    "df = df.drop('atmospheric_sea_level_pressure_units', axis=1)\n",
    "df = df.drop('atmospheric_sea_level_pressure_quality', axis=1)\n",
    "df = df.drop('visibility_distance_units', axis=1)\n",
    "df = df.drop('wind_speed_rate_units', axis=1)\n",
    "df = df.drop('sky_ceiling_determination', axis=1)\n",
    "df = df.drop('wind_speed_quality', axis=1)\n",
    "df = df.drop('atmospheric_sea_level_pressure', axis=1)"
   ]
  },
  {
   "cell_type": "markdown",
   "metadata": {
    "id": "bFwRiT_eVB2M"
   },
   "source": [
    "* <font color='Peru'>**Parse Float to Int**</font>"
   ]
  },
  {
   "cell_type": "code",
   "execution_count": 31,
   "metadata": {
    "id": "tkaLtG3HVB2M"
   },
   "outputs": [],
   "source": [
    "df['elevation'] = df['elevation'].astype('int')\n",
    "df['wind_speed_rate'] = df['wind_speed_rate'].astype('int')\n",
    "df['air_temperature'] = df['air_temperature'].astype('int')\n"
   ]
  },
  {
   "cell_type": "code",
   "execution_count": 32,
   "metadata": {
    "id": "mE6Yqf26bfJ4"
   },
   "outputs": [],
   "source": [
    "# Convert date to datetime object_ for look better in visualization\n",
    "df[\"observation_date\"] = pd.to_datetime(df[\"observation_date\"])"
   ]
  },
  {
   "cell_type": "code",
   "execution_count": 33,
   "metadata": {
    "colab": {
     "base_uri": "https://localhost:8080/",
     "height": 206
    },
    "id": "Xs2iuPmbsUUe",
    "outputId": "433b381f-ddbe-4b96-b17c-8121915cc352"
   },
   "outputs": [
    {
     "data": {
      "text/html": [
       "<div>\n",
       "<style scoped>\n",
       "    .dataframe tbody tr th:only-of-type {\n",
       "        vertical-align: middle;\n",
       "    }\n",
       "\n",
       "    .dataframe tbody tr th {\n",
       "        vertical-align: top;\n",
       "    }\n",
       "\n",
       "    .dataframe thead th {\n",
       "        text-align: right;\n",
       "    }\n",
       "</style>\n",
       "<table border=\"1\" class=\"dataframe\">\n",
       "  <thead>\n",
       "    <tr style=\"text-align: right;\">\n",
       "      <th></th>\n",
       "      <th>YEAR</th>\n",
       "      <th>station_name</th>\n",
       "      <th>observation_date</th>\n",
       "      <th>elevation</th>\n",
       "      <th>wind_direction_angle</th>\n",
       "      <th>wind_type</th>\n",
       "      <th>wind_speed_rate</th>\n",
       "      <th>sky_ceiling_height</th>\n",
       "      <th>sky_cavok</th>\n",
       "      <th>visibility_distance</th>\n",
       "      <th>air_temperature</th>\n",
       "      <th>GEOPOINT</th>\n",
       "    </tr>\n",
       "  </thead>\n",
       "  <tbody>\n",
       "    <tr>\n",
       "      <th>2</th>\n",
       "      <td>2020</td>\n",
       "      <td>TURAIF</td>\n",
       "      <td>2020-10-17 12:00:00+03:00</td>\n",
       "      <td>854</td>\n",
       "      <td>160.0</td>\n",
       "      <td>Normal</td>\n",
       "      <td>5</td>\n",
       "      <td>99999.0</td>\n",
       "      <td>No</td>\n",
       "      <td>10000.0</td>\n",
       "      <td>28</td>\n",
       "      <td>31.692683</td>\n",
       "    </tr>\n",
       "    <tr>\n",
       "      <th>5</th>\n",
       "      <td>2020</td>\n",
       "      <td>KING KHALED INTL</td>\n",
       "      <td>2020-04-09 03:00:00+03:00</td>\n",
       "      <td>624</td>\n",
       "      <td>50.0</td>\n",
       "      <td>Normal</td>\n",
       "      <td>2</td>\n",
       "      <td>22000.0</td>\n",
       "      <td>No</td>\n",
       "      <td>3000.0</td>\n",
       "      <td>27</td>\n",
       "      <td>24.957640</td>\n",
       "    </tr>\n",
       "    <tr>\n",
       "      <th>6</th>\n",
       "      <td>2021</td>\n",
       "      <td>NEJRAN</td>\n",
       "      <td>2021-07-04 06:00:00+03:00</td>\n",
       "      <td>1213</td>\n",
       "      <td>240.0</td>\n",
       "      <td>Normal</td>\n",
       "      <td>3</td>\n",
       "      <td>22000.0</td>\n",
       "      <td>No</td>\n",
       "      <td>10000.0</td>\n",
       "      <td>27</td>\n",
       "      <td>17.611436</td>\n",
       "    </tr>\n",
       "    <tr>\n",
       "      <th>8</th>\n",
       "      <td>2020</td>\n",
       "      <td>NEJRAN</td>\n",
       "      <td>2020-03-20 06:00:00+03:00</td>\n",
       "      <td>1213</td>\n",
       "      <td>30.0</td>\n",
       "      <td>Normal</td>\n",
       "      <td>1</td>\n",
       "      <td>22000.0</td>\n",
       "      <td>No</td>\n",
       "      <td>4000.0</td>\n",
       "      <td>18</td>\n",
       "      <td>17.611436</td>\n",
       "    </tr>\n",
       "    <tr>\n",
       "      <th>9</th>\n",
       "      <td>2020</td>\n",
       "      <td>PRINCE MOHAMMAD BIN ABDULAZIZ</td>\n",
       "      <td>2020-07-28 13:00:00+03:00</td>\n",
       "      <td>655</td>\n",
       "      <td>270.0</td>\n",
       "      <td>Normal</td>\n",
       "      <td>2</td>\n",
       "      <td>99999.0</td>\n",
       "      <td>No</td>\n",
       "      <td>9999.0</td>\n",
       "      <td>42</td>\n",
       "      <td>24.553422</td>\n",
       "    </tr>\n",
       "  </tbody>\n",
       "</table>\n",
       "</div>"
      ],
      "text/plain": [
       "   YEAR                   station_name          observation_date  elevation  \\\n",
       "2  2020                         TURAIF 2020-10-17 12:00:00+03:00        854   \n",
       "5  2020               KING KHALED INTL 2020-04-09 03:00:00+03:00        624   \n",
       "6  2021                         NEJRAN 2021-07-04 06:00:00+03:00       1213   \n",
       "8  2020                         NEJRAN 2020-03-20 06:00:00+03:00       1213   \n",
       "9  2020  PRINCE MOHAMMAD BIN ABDULAZIZ 2020-07-28 13:00:00+03:00        655   \n",
       "\n",
       "   wind_direction_angle wind_type  wind_speed_rate  sky_ceiling_height  \\\n",
       "2                 160.0    Normal                5             99999.0   \n",
       "5                  50.0    Normal                2             22000.0   \n",
       "6                 240.0    Normal                3             22000.0   \n",
       "8                  30.0    Normal                1             22000.0   \n",
       "9                 270.0    Normal                2             99999.0   \n",
       "\n",
       "  sky_cavok  visibility_distance  air_temperature   GEOPOINT  \n",
       "2        No              10000.0               28  31.692683  \n",
       "5        No               3000.0               27  24.957640  \n",
       "6        No              10000.0               27  17.611436  \n",
       "8        No               4000.0               18  17.611436  \n",
       "9        No               9999.0               42  24.553422  "
      ]
     },
     "execution_count": 33,
     "metadata": {},
     "output_type": "execute_result"
    }
   ],
   "source": [
    "df.head(5)"
   ]
  },
  {
   "cell_type": "markdown",
   "metadata": {},
   "source": [
    "* <font color='Peru'>**Export this dataset before doing preprocessin and encoding to use it in mapreduce**</font>"
   ]
  },
  {
   "cell_type": "code",
   "execution_count": 34,
   "metadata": {},
   "outputs": [],
   "source": [
    "df.to_csv('mapreduce_df.csv', index=False)"
   ]
  },
  {
   "cell_type": "markdown",
   "metadata": {
    "id": "xcRjgytNAm4a"
   },
   "source": [
    "## <font color='MediumSlateBlue'>**Feature Engineering-Encoding**</font> \n",
    "\n",
    "\n"
   ]
  },
  {
   "cell_type": "markdown",
   "metadata": {
    "id": "zyJLNajMYQtd"
   },
   "source": [
    "* **<font color='CornflowerBlue'>In features with binary values do the transform to numbers  1 = yes else number = 0 as (SKY_CAVOK) there are two value yes, No.</font>**\n",
    "\n",
    "* **<font color='CornflowerBlue'>For a categorical features will perform a one hot encoding.</font>**\n"
   ]
  },
  {
   "cell_type": "code",
   "execution_count": 35,
   "metadata": {
    "id": "1br_UNOLO51S"
   },
   "outputs": [],
   "source": [
    "label_encoder = preprocessing.LabelEncoder()\n",
    "\n",
    "df['station_name']= label_encoder.fit_transform(df['station_name'])\n",
    "df['observation_date']= label_encoder.fit_transform(df['observation_date'])\n",
    "df['wind_type']= label_encoder.fit_transform(df['wind_type'])\n",
    "df['sky_cavok']= label_encoder.fit_transform(df['sky_cavok'])"
   ]
  },
  {
   "cell_type": "code",
   "execution_count": 36,
   "metadata": {
    "colab": {
     "base_uri": "https://localhost:8080/"
    },
    "id": "ZMlx1c60dZHf",
    "outputId": "4c0098a1-9c63-4dd8-bcae-565cec05fc63"
   },
   "outputs": [
    {
     "name": "stdout",
     "output_type": "stream",
     "text": [
      "<class 'pandas.core.frame.DataFrame'>\n",
      "Int64Index: 101088 entries, 2 to 299997\n",
      "Data columns (total 12 columns):\n",
      " #   Column                Non-Null Count   Dtype  \n",
      "---  ------                --------------   -----  \n",
      " 0   YEAR                  101088 non-null  int64  \n",
      " 1   station_name          101088 non-null  int32  \n",
      " 2   observation_date      101088 non-null  int32  \n",
      " 3   elevation             101088 non-null  int32  \n",
      " 4   wind_direction_angle  101088 non-null  float64\n",
      " 5   wind_type             101088 non-null  int32  \n",
      " 6   wind_speed_rate       101088 non-null  int32  \n",
      " 7   sky_ceiling_height    101088 non-null  float64\n",
      " 8   sky_cavok             101088 non-null  int32  \n",
      " 9   visibility_distance   101088 non-null  float64\n",
      " 10  air_temperature       101088 non-null  int32  \n",
      " 11  GEOPOINT              101085 non-null  float64\n",
      "dtypes: float64(4), int32(7), int64(1)\n",
      "memory usage: 7.3 MB\n"
     ]
    }
   ],
   "source": [
    "df.info()"
   ]
  },
  {
   "cell_type": "code",
   "execution_count": 37,
   "metadata": {
    "colab": {
     "base_uri": "https://localhost:8080/",
     "height": 206
    },
    "id": "Ti7tTR1Ldg-g",
    "outputId": "65014dbd-dde8-47c1-eda3-28948a4040d8"
   },
   "outputs": [
    {
     "data": {
      "text/html": [
       "<div>\n",
       "<style scoped>\n",
       "    .dataframe tbody tr th:only-of-type {\n",
       "        vertical-align: middle;\n",
       "    }\n",
       "\n",
       "    .dataframe tbody tr th {\n",
       "        vertical-align: top;\n",
       "    }\n",
       "\n",
       "    .dataframe thead th {\n",
       "        text-align: right;\n",
       "    }\n",
       "</style>\n",
       "<table border=\"1\" class=\"dataframe\">\n",
       "  <thead>\n",
       "    <tr style=\"text-align: right;\">\n",
       "      <th></th>\n",
       "      <th>YEAR</th>\n",
       "      <th>station_name</th>\n",
       "      <th>observation_date</th>\n",
       "      <th>elevation</th>\n",
       "      <th>wind_direction_angle</th>\n",
       "      <th>wind_type</th>\n",
       "      <th>wind_speed_rate</th>\n",
       "      <th>sky_ceiling_height</th>\n",
       "      <th>sky_cavok</th>\n",
       "      <th>visibility_distance</th>\n",
       "      <th>air_temperature</th>\n",
       "      <th>GEOPOINT</th>\n",
       "    </tr>\n",
       "  </thead>\n",
       "  <tbody>\n",
       "    <tr>\n",
       "      <th>2</th>\n",
       "      <td>2020</td>\n",
       "      <td>29</td>\n",
       "      <td>5558</td>\n",
       "      <td>854</td>\n",
       "      <td>160.0</td>\n",
       "      <td>0</td>\n",
       "      <td>5</td>\n",
       "      <td>99999.0</td>\n",
       "      <td>0</td>\n",
       "      <td>10000.0</td>\n",
       "      <td>28</td>\n",
       "      <td>31.692683</td>\n",
       "    </tr>\n",
       "    <tr>\n",
       "      <th>5</th>\n",
       "      <td>2020</td>\n",
       "      <td>17</td>\n",
       "      <td>1702</td>\n",
       "      <td>624</td>\n",
       "      <td>50.0</td>\n",
       "      <td>0</td>\n",
       "      <td>2</td>\n",
       "      <td>22000.0</td>\n",
       "      <td>0</td>\n",
       "      <td>3000.0</td>\n",
       "      <td>27</td>\n",
       "      <td>24.957640</td>\n",
       "    </tr>\n",
       "    <tr>\n",
       "      <th>6</th>\n",
       "      <td>2021</td>\n",
       "      <td>19</td>\n",
       "      <td>10854</td>\n",
       "      <td>1213</td>\n",
       "      <td>240.0</td>\n",
       "      <td>0</td>\n",
       "      <td>3</td>\n",
       "      <td>22000.0</td>\n",
       "      <td>0</td>\n",
       "      <td>10000.0</td>\n",
       "      <td>27</td>\n",
       "      <td>17.611436</td>\n",
       "    </tr>\n",
       "    <tr>\n",
       "      <th>8</th>\n",
       "      <td>2020</td>\n",
       "      <td>19</td>\n",
       "      <td>1240</td>\n",
       "      <td>1213</td>\n",
       "      <td>30.0</td>\n",
       "      <td>0</td>\n",
       "      <td>1</td>\n",
       "      <td>22000.0</td>\n",
       "      <td>0</td>\n",
       "      <td>4000.0</td>\n",
       "      <td>18</td>\n",
       "      <td>17.611436</td>\n",
       "    </tr>\n",
       "    <tr>\n",
       "      <th>9</th>\n",
       "      <td>2020</td>\n",
       "      <td>21</td>\n",
       "      <td>4046</td>\n",
       "      <td>655</td>\n",
       "      <td>270.0</td>\n",
       "      <td>0</td>\n",
       "      <td>2</td>\n",
       "      <td>99999.0</td>\n",
       "      <td>0</td>\n",
       "      <td>9999.0</td>\n",
       "      <td>42</td>\n",
       "      <td>24.553422</td>\n",
       "    </tr>\n",
       "  </tbody>\n",
       "</table>\n",
       "</div>"
      ],
      "text/plain": [
       "   YEAR  station_name  observation_date  elevation  wind_direction_angle  \\\n",
       "2  2020            29              5558        854                 160.0   \n",
       "5  2020            17              1702        624                  50.0   \n",
       "6  2021            19             10854       1213                 240.0   \n",
       "8  2020            19              1240       1213                  30.0   \n",
       "9  2020            21              4046        655                 270.0   \n",
       "\n",
       "   wind_type  wind_speed_rate  sky_ceiling_height  sky_cavok  \\\n",
       "2          0                5             99999.0          0   \n",
       "5          0                2             22000.0          0   \n",
       "6          0                3             22000.0          0   \n",
       "8          0                1             22000.0          0   \n",
       "9          0                2             99999.0          0   \n",
       "\n",
       "   visibility_distance  air_temperature   GEOPOINT  \n",
       "2              10000.0               28  31.692683  \n",
       "5               3000.0               27  24.957640  \n",
       "6              10000.0               27  17.611436  \n",
       "8               4000.0               18  17.611436  \n",
       "9               9999.0               42  24.553422  "
      ]
     },
     "execution_count": 37,
     "metadata": {},
     "output_type": "execute_result"
    }
   ],
   "source": [
    "df.head()"
   ]
  },
  {
   "cell_type": "code",
   "execution_count": 38,
   "metadata": {
    "colab": {
     "base_uri": "https://localhost:8080/"
    },
    "id": "OsyCxY0XX9Xb",
    "outputId": "7411b80a-daac-46a4-f09f-d8ffdbdf0a6e"
   },
   "outputs": [
    {
     "data": {
      "text/plain": [
       "(101088, 12)"
      ]
     },
     "execution_count": 38,
     "metadata": {},
     "output_type": "execute_result"
    }
   ],
   "source": [
    "df.shape"
   ]
  },
  {
   "cell_type": "markdown",
   "metadata": {
    "id": "fnaX39-7q_jM"
   },
   "source": [
    "* <font color='Peru'>**Export the final dataset after doing preprocessin and encoding**</font>"
   ]
  },
  {
   "cell_type": "code",
   "execution_count": 39,
   "metadata": {
    "id": "BThIA7nSq_jM"
   },
   "outputs": [],
   "source": [
    "df.to_csv('Final_df.csv', index=False)"
   ]
  },
  {
   "cell_type": "code",
   "execution_count": null,
   "metadata": {},
   "outputs": [],
   "source": []
  }
 ],
 "metadata": {
  "colab": {
   "collapsed_sections": [
    "7kkMRk-9dvGs",
    "3-5vOG4QdvGu",
    "OY2RpqRJdvGw",
    "K9HivmNHAAUZ",
    "YS_PfWQdldc1",
    "b4IYu_EXNKWA"
   ],
   "provenance": []
  },
  "kernelspec": {
   "display_name": "Python 3 (ipykernel)",
   "language": "python",
   "name": "python3"
  },
  "language_info": {
   "codemirror_mode": {
    "name": "ipython",
    "version": 3
   },
   "file_extension": ".py",
   "mimetype": "text/x-python",
   "name": "python",
   "nbconvert_exporter": "python",
   "pygments_lexer": "ipython3",
   "version": "3.9.12"
  },
  "vscode": {
   "interpreter": {
    "hash": "f04f0c34f1cfb4b7c9a1ef92d77fbe9d595dc595c88156787f7b8b4fa4a252fc"
   }
  }
 },
 "nbformat": 4,
 "nbformat_minor": 1
}
