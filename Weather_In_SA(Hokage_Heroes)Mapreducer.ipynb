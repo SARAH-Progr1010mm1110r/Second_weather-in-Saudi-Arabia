{
 "cells": [
  {
   "cell_type": "markdown",
   "id": "1a075566",
   "metadata": {},
   "source": [
    "# <font color='orange'>Mapreduce</font>"
   ]
  },
  {
   "cell_type": "markdown",
   "id": "4be0a188",
   "metadata": {},
   "source": [
    "### <font color='MediumPurple'>Importing Packages </font>"
   ]
  },
  {
   "cell_type": "code",
   "execution_count": 57,
   "id": "08ff3259",
   "metadata": {},
   "outputs": [],
   "source": [
    "import pandas as pd"
   ]
  },
  {
   "cell_type": "code",
   "execution_count": 58,
   "id": "f9a234d5",
   "metadata": {},
   "outputs": [
    {
     "name": "stdout",
     "output_type": "stream",
     "text": [
      "Requirement already satisfied: mrjob in c:\\users\\sarah\\anaconda3\\lib\\site-packages (0.7.4)\n",
      "Requirement already satisfied: PyYAML>=3.10 in c:\\users\\sarah\\anaconda3\\lib\\site-packages (from mrjob) (6.0)\n"
     ]
    }
   ],
   "source": [
    "! pip install mrjob"
   ]
  },
  {
   "cell_type": "markdown",
   "id": "e428f876",
   "metadata": {},
   "source": [
    "### Read data"
   ]
  },
  {
   "cell_type": "code",
   "execution_count": 59,
   "id": "791c9e34",
   "metadata": {},
   "outputs": [],
   "source": [
    "pd =pd.read_csv(\"mapreduce_df.csv\")"
   ]
  },
  {
   "cell_type": "code",
   "execution_count": 60,
   "id": "f4939f43",
   "metadata": {},
   "outputs": [
    {
     "data": {
      "text/html": [
       "<div>\n",
       "<style scoped>\n",
       "    .dataframe tbody tr th:only-of-type {\n",
       "        vertical-align: middle;\n",
       "    }\n",
       "\n",
       "    .dataframe tbody tr th {\n",
       "        vertical-align: top;\n",
       "    }\n",
       "\n",
       "    .dataframe thead th {\n",
       "        text-align: right;\n",
       "    }\n",
       "</style>\n",
       "<table border=\"1\" class=\"dataframe\">\n",
       "  <thead>\n",
       "    <tr style=\"text-align: right;\">\n",
       "      <th></th>\n",
       "      <th>YEAR</th>\n",
       "      <th>station_name</th>\n",
       "      <th>observation_date</th>\n",
       "      <th>elevation</th>\n",
       "      <th>wind_direction_angle</th>\n",
       "      <th>wind_type</th>\n",
       "      <th>wind_speed_rate</th>\n",
       "      <th>sky_ceiling_height</th>\n",
       "      <th>sky_cavok</th>\n",
       "      <th>visibility_distance</th>\n",
       "      <th>air_temperature</th>\n",
       "      <th>GEOPOINT</th>\n",
       "    </tr>\n",
       "  </thead>\n",
       "  <tbody>\n",
       "    <tr>\n",
       "      <th>0</th>\n",
       "      <td>2020</td>\n",
       "      <td>TURAIF</td>\n",
       "      <td>2020-10-17 12:00:00+03:00</td>\n",
       "      <td>854</td>\n",
       "      <td>160.0</td>\n",
       "      <td>Normal</td>\n",
       "      <td>5</td>\n",
       "      <td>99999.0</td>\n",
       "      <td>No</td>\n",
       "      <td>10000.0</td>\n",
       "      <td>28</td>\n",
       "      <td>31.692683</td>\n",
       "    </tr>\n",
       "    <tr>\n",
       "      <th>1</th>\n",
       "      <td>2020</td>\n",
       "      <td>KING KHALED INTL</td>\n",
       "      <td>2020-04-09 03:00:00+03:00</td>\n",
       "      <td>624</td>\n",
       "      <td>50.0</td>\n",
       "      <td>Normal</td>\n",
       "      <td>2</td>\n",
       "      <td>22000.0</td>\n",
       "      <td>No</td>\n",
       "      <td>3000.0</td>\n",
       "      <td>27</td>\n",
       "      <td>24.957640</td>\n",
       "    </tr>\n",
       "    <tr>\n",
       "      <th>2</th>\n",
       "      <td>2021</td>\n",
       "      <td>NEJRAN</td>\n",
       "      <td>2021-07-04 06:00:00+03:00</td>\n",
       "      <td>1213</td>\n",
       "      <td>240.0</td>\n",
       "      <td>Normal</td>\n",
       "      <td>3</td>\n",
       "      <td>22000.0</td>\n",
       "      <td>No</td>\n",
       "      <td>10000.0</td>\n",
       "      <td>27</td>\n",
       "      <td>17.611436</td>\n",
       "    </tr>\n",
       "    <tr>\n",
       "      <th>3</th>\n",
       "      <td>2020</td>\n",
       "      <td>NEJRAN</td>\n",
       "      <td>2020-03-20 06:00:00+03:00</td>\n",
       "      <td>1213</td>\n",
       "      <td>30.0</td>\n",
       "      <td>Normal</td>\n",
       "      <td>1</td>\n",
       "      <td>22000.0</td>\n",
       "      <td>No</td>\n",
       "      <td>4000.0</td>\n",
       "      <td>18</td>\n",
       "      <td>17.611436</td>\n",
       "    </tr>\n",
       "    <tr>\n",
       "      <th>4</th>\n",
       "      <td>2020</td>\n",
       "      <td>PRINCE MOHAMMAD BIN ABDULAZIZ</td>\n",
       "      <td>2020-07-28 13:00:00+03:00</td>\n",
       "      <td>655</td>\n",
       "      <td>270.0</td>\n",
       "      <td>Normal</td>\n",
       "      <td>2</td>\n",
       "      <td>99999.0</td>\n",
       "      <td>No</td>\n",
       "      <td>9999.0</td>\n",
       "      <td>42</td>\n",
       "      <td>24.553422</td>\n",
       "    </tr>\n",
       "  </tbody>\n",
       "</table>\n",
       "</div>"
      ],
      "text/plain": [
       "   YEAR                   station_name           observation_date  elevation  \\\n",
       "0  2020                         TURAIF  2020-10-17 12:00:00+03:00        854   \n",
       "1  2020               KING KHALED INTL  2020-04-09 03:00:00+03:00        624   \n",
       "2  2021                         NEJRAN  2021-07-04 06:00:00+03:00       1213   \n",
       "3  2020                         NEJRAN  2020-03-20 06:00:00+03:00       1213   \n",
       "4  2020  PRINCE MOHAMMAD BIN ABDULAZIZ  2020-07-28 13:00:00+03:00        655   \n",
       "\n",
       "   wind_direction_angle wind_type  wind_speed_rate  sky_ceiling_height  \\\n",
       "0                 160.0    Normal                5             99999.0   \n",
       "1                  50.0    Normal                2             22000.0   \n",
       "2                 240.0    Normal                3             22000.0   \n",
       "3                  30.0    Normal                1             22000.0   \n",
       "4                 270.0    Normal                2             99999.0   \n",
       "\n",
       "  sky_cavok  visibility_distance  air_temperature   GEOPOINT  \n",
       "0        No              10000.0               28  31.692683  \n",
       "1        No               3000.0               27  24.957640  \n",
       "2        No              10000.0               27  17.611436  \n",
       "3        No               4000.0               18  17.611436  \n",
       "4        No               9999.0               42  24.553422  "
      ]
     },
     "execution_count": 60,
     "metadata": {},
     "output_type": "execute_result"
    }
   ],
   "source": [
    "pd.head()"
   ]
  },
  {
   "cell_type": "code",
   "execution_count": 61,
   "id": "590f0ccd",
   "metadata": {},
   "outputs": [
    {
     "name": "stdout",
     "output_type": "stream",
     "text": [
      "Writing Weather_Mapreducer.py\n"
     ]
    }
   ],
   "source": [
    "%%file Weather_Mapreducer.py\n",
    "\n",
    "from mrjob.job import MRJob\n",
    "from mrjob.step import MRStep\n",
    "\n",
    "class hadoop(MRJob):\n",
    "    def steps(self):\n",
    "        return[\n",
    "            MRStep(\n",
    "            mapper=self.mapper_names,\n",
    "                reducer=self.reducer_names\n",
    "            )\n",
    "            ,\n",
    "                        MRStep(\n",
    "            mapper=self.mapper_names2,\n",
    "                reducer=self.reducer_names2\n",
    "            )\n",
    "        ]\n",
    "    def mapper_names(self,_,line):\n",
    "        (YEAR,station_name,observation_date,elevation,wind_direction_angle,wind_type,wind_speed_rate,sky_ceiling_height,\n",
    "         sky_cavok,visibility_distance,air_temperature,GEOPOINT) = line.split(',')\n",
    "        yield ((station_name,air_temperature),1)\n",
    "        \n",
    "    def reducer_names (self,keys,values):\n",
    "        yield (keys,sum(values))\n",
    "        \n",
    "    def mapper_names2(self,keys,values):\n",
    "        (station_name,air_temperature) = keys\n",
    "        yield (station_name,(air_temperature,values))\n",
    "        \n",
    "    def reducer_names2 (self,key2,values2):\n",
    "        yield (key2,max(values2, key=lambda x:x[1]))   \n",
    "    \n",
    "    \n",
    "        \n",
    "if __name__ == \"__main__\":\n",
    "    hadoop.run()"
   ]
  },
  {
   "cell_type": "code",
   "execution_count": 62,
   "id": "af2f8d75",
   "metadata": {},
   "outputs": [
    {
     "name": "stdout",
     "output_type": "stream",
     "text": [
      "\"ABHA\"\t[\"23\",328]\n",
      "\"AL AHSA\"\t[\"28\",130]\n",
      "\"AL BAHA\"\t[\"25\",354]\n",
      "\"AL JOUF\"\t[\"18\",138]\n",
      "\"AL-DAWADAMI\"\t[\"34\",73]\n",
      "\"ARAFAT\"\t[\"33\",103]\n",
      "\"ARAR\"\t[\"18\",129]\n",
      "\"BISHA\"\t[\"29\",213]\n",
      "\"DAMMAM (KING FAHD INT. AIRPORT)\"\t[\"29\",120]\n",
      "\"GASSIM\"\t[\"27\",191]\n",
      "\"GURIAT\"\t[\"18\",130]\n",
      "\"HAIL\"\t[\"17\",126]\n",
      "\"JUBAIL\"\t[\"25\",56]\n",
      "\"KING ABDULAZIZ AB\"\t[\"20\",61]\n",
      "\"KING ABDULAZIZ INTL\"\t[\"32\",414]\n",
      "\"KING ABDULLAH BIN ABDULAZIZ\"\t[\"33\",743]\n",
      "\"KING KHALED AB\"\t[\"25\",290]\n",
      "\"KING KHALED INTL\"\t[\"30\",177]\n",
      "\"MINA\"\t[\"35\",33]\n",
      "\"NEJRAN\"\t[\"33\",296]\n",
      "\"PRINCE ABDULMAJEED BIN ABDULAZIZ AIRPORT\"\t[\"34\",119]\n",
      "\"PRINCE MOHAMMAD BIN ABDULAZIZ\"\t[\"37\",170]\n",
      "\"PRINCE SALMAN BIN ABDULAZIZ\"\t[\"39\",50]\n",
      "\"QAISUMAH\"\t[\"17\",126]\n",
      "\"RAFHA\"\t[\"18\",109]\n",
      "\"RIYADH AB\"\t[\"18\",33]\n",
      "\"SHARURAH\"\t[\"34\",222]\n",
      "\"TABUK\"\t[\"25\",142]\n",
      "\"TAIF\"\t[\"28\",297]\n",
      "\"TURAIF\"\t[\"12\",124]\n",
      "\"WADI AL DAWASIR\"\t[\"30\",180]\n",
      "\"WEJH\"\t[\"29\",254]\n",
      "\"YENBO\"\t[\"32\",223]\n",
      "\"station_name\"\t[\"air_temperature\",1]\n"
     ]
    },
    {
     "name": "stderr",
     "output_type": "stream",
     "text": [
      "No configs found; falling back on auto-configuration\n",
      "No configs specified for inline runner\n",
      "Creating temp directory C:\\Users\\sarah\\AppData\\Local\\Temp\\Weather_Mapreducer.sarah.20221130.212704.287162\n",
      "Running step 1 of 2...\n",
      "Running step 2 of 2...\n",
      "job output is in C:\\Users\\sarah\\AppData\\Local\\Temp\\Weather_Mapreducer.sarah.20221130.212704.287162\\output\n",
      "Streaming final output from C:\\Users\\sarah\\AppData\\Local\\Temp\\Weather_Mapreducer.sarah.20221130.212704.287162\\output...\n",
      "Removing temp directory C:\\Users\\sarah\\AppData\\Local\\Temp\\Weather_Mapreducer.sarah.20221130.212704.287162...\n"
     ]
    }
   ],
   "source": [
    "!python Weather_Mapreducer.py mapreduce_df.csv"
   ]
  },
  {
   "cell_type": "code",
   "execution_count": 63,
   "id": "499830e5",
   "metadata": {},
   "outputs": [
    {
     "name": "stdout",
     "output_type": "stream",
     "text": [
      "Writing YEAR_temperature.py\n"
     ]
    }
   ],
   "source": [
    "%%file YEAR_temperature.py\n",
    "\n",
    "from mrjob.job import MRJob\n",
    "from mrjob.step import MRStep\n",
    "\n",
    "class weather(MRJob):\n",
    "    def steps(self):\n",
    "        return[\n",
    "            MRStep(\n",
    "            mapper=self.mapper_names,\n",
    "                reducer=self.reducer_names\n",
    "            )\n",
    "            ,\n",
    "                        MRStep(\n",
    "            mapper=self.mapper_names2,\n",
    "                reducer=self.reducer_names2\n",
    "            )\n",
    "        ]\n",
    "    def mapper_names(self,_,line):\n",
    "        (YEAR,station_name,observation_date,elevation,wind_direction_angle,wind_type,wind_speed_rate,sky_ceiling_height,\n",
    "         sky_cavok,visibility_distance,air_temperature,GEOPOINT) = line.split(',')\n",
    "        yield ((YEAR,air_temperature),1)\n",
    "        \n",
    "    def reducer_names (self,keys,values):\n",
    "        yield (keys,sum(values))\n",
    "        \n",
    "    def mapper_names2(self,keys,values):\n",
    "        (YEAR,air_temperature) = keys\n",
    "        yield (YEAR,(air_temperature,values))\n",
    "        \n",
    "    def reducer_names2 (self,key2,values2):\n",
    "        yield (key2,max(values2, key=lambda x:x[1]))   \n",
    "    \n",
    "    \n",
    "        \n",
    "if __name__ == \"__main__\":\n",
    "    weather.run()"
   ]
  },
  {
   "cell_type": "code",
   "execution_count": 64,
   "id": "679bc5c5",
   "metadata": {},
   "outputs": [
    {
     "name": "stdout",
     "output_type": "stream",
     "text": [
      "\"2020\"\t[\"29\",1590]\n",
      "\"2021\"\t[\"32\",1558]\n",
      "\"2022\"\t[\"33\",1630]\n",
      "\"YEAR\"\t[\"air_temperature\",1]\n"
     ]
    },
    {
     "name": "stderr",
     "output_type": "stream",
     "text": [
      "No configs found; falling back on auto-configuration\n",
      "No configs specified for inline runner\n",
      "Creating temp directory C:\\Users\\sarah\\AppData\\Local\\Temp\\YEAR_temperature.sarah.20221130.212707.525329\n",
      "Running step 1 of 2...\n",
      "Running step 2 of 2...\n",
      "job output is in C:\\Users\\sarah\\AppData\\Local\\Temp\\YEAR_temperature.sarah.20221130.212707.525329\\output\n",
      "Streaming final output from C:\\Users\\sarah\\AppData\\Local\\Temp\\YEAR_temperature.sarah.20221130.212707.525329\\output...\n",
      "Removing temp directory C:\\Users\\sarah\\AppData\\Local\\Temp\\YEAR_temperature.sarah.20221130.212707.525329...\n"
     ]
    }
   ],
   "source": [
    "!python YEAR_temperature.py mapreduce_df.csv"
   ]
  }
 ],
 "metadata": {
  "kernelspec": {
   "display_name": "Python 3 (ipykernel)",
   "language": "python",
   "name": "python3"
  },
  "language_info": {
   "codemirror_mode": {
    "name": "ipython",
    "version": 3
   },
   "file_extension": ".py",
   "mimetype": "text/x-python",
   "name": "python",
   "nbconvert_exporter": "python",
   "pygments_lexer": "ipython3",
   "version": "3.9.12"
  }
 },
 "nbformat": 4,
 "nbformat_minor": 5
}
