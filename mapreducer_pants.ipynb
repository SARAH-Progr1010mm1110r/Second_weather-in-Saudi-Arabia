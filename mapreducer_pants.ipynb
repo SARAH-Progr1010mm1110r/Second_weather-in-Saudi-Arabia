{
 "cells": [
  {
   "cell_type": "code",
   "execution_count": null,
   "id": "590f0ccd",
   "metadata": {},
   "outputs": [],
   "source": [
    "%%file plants1.py\n",
    "\n",
    "from mrjob.job import MRJob\n",
    "from mrjob.step import MRStep\n",
    "\n",
    "class hadoop(MRJob):\n",
    "    def steps(self):\n",
    "        return[\n",
    "            MRStep(\n",
    "            mapper=self.mapper_names,\n",
    "                reducer=self.reducer_names\n",
    "            )\n",
    "            ,\n",
    "                        MRStep(\n",
    "            mapper=self.mapper_names2,\n",
    "                reducer=self.reducer_names2\n",
    "            )\n",
    "        ]\n",
    "    def mapper_names(self,_,line):\n",
    "        (STATION_NAME,OBSERVATION_DATE,ELEVATION,WIND_DIRECTION_ANGLE,WIND_TYPE,WIND_SPEED_RATE,SKY_CEILING_HEIGHT,\n",
    "        SKY_CAVOK,VISIBILITY_DISTANCE,AIR_TEMPERATURE,Crop,TEMP_MAX,TEMP_MIN,Crop_encoded) = line.split(',')\n",
    "        yield ((STATION_NAME,Crop),1)\n",
    "        \n",
    "    def reducer_names (self,keys,values):\n",
    "        yield (keys,sum(values))\n",
    "        \n",
    "    def mapper_names2(self,keys,values):\n",
    "        (STATION_NAME,Crop) = keys\n",
    "        yield (STATION_NAME,(Crop,values))\n",
    "        \n",
    "    def reducer_names2 (self,key2,values2):\n",
    "        yield (key2,max(values2, key=lambda x:x[1]))   \n",
    "    \n",
    "    \n",
    "        \n",
    "if __name__ == \"__main__\":\n",
    "    hadoop.run()"
   ]
  },
  {
   "cell_type": "code",
   "execution_count": null,
   "id": "41a51a19",
   "metadata": {},
   "outputs": [],
   "source": [
    "# data link https://raw.githubusercontent.com/HayamAlrashed/BigData-Ai/main/subdf.csv\n",
    "!python plants1.py subdf.csv"
   ]
  }
 ],
 "metadata": {
  "kernelspec": {
   "display_name": "Python 3 (ipykernel)",
   "language": "python",
   "name": "python3"
  },
  "language_info": {
   "codemirror_mode": {
    "name": "ipython",
    "version": 3
   },
   "file_extension": ".py",
   "mimetype": "text/x-python",
   "name": "python",
   "nbconvert_exporter": "python",
   "pygments_lexer": "ipython3",
   "version": "3.9.13"
  }
 },
 "nbformat": 4,
 "nbformat_minor": 5
}
